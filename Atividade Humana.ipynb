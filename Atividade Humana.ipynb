{
 "cells": [
  {
   "cell_type": "markdown",
   "metadata": {},
   "source": [
    "# Classificação de Atividade Humana com PCA"
   ]
  },
  {
   "cell_type": "markdown",
   "metadata": {},
   "source": [
    "# <a id='sumario'></a>Sumário\n",
    "1. [**Entendimento do problema**](#entendimento-do-problema)\n",
    "2. [**Bibliotecas**](#bibliotecas)\n",
    "<br>\n",
    "3. [**Entendimento dos Dados**](#entendimento-dos-dados)       \n",
    "- 3.1 [Carregando os Dados](#carregando-os-dados)\n",
    "- 3.2 [Primeiras impressões dos dados](#primeiras-impressoes-dos-dados)\n",
    "\n",
    "4. [**PCA**](#PCA)\n",
    "- 4.1 [Padronização PCA](#pad-PCA)\n",
    "- 4.2 [Descritiva PCA e PAD](#descritiva-pad)\n",
    "5. [**Descritiva LDA**](#LDA)\n",
    "6. [**Planejamento do Modelo**](#setup)\n",
    "- 6.1 [Setup](#setup)\n",
    "- 6.2 [compare_models](#compare_models)\n",
    "<br>\n",
    "7. [**Modelo Final**](#modelo-final)<br>\n",
    "- 7.1 [create_model](#create_model)\n",
    "- 7.2 [Predict e Pipeline](#Predict-Pipeline)\n",
    "<br>\n",
    "8. [**Avaliação do Modelo**](#aval-modelo)\n",
    "9. [**Relatório Gerencial**](#Relatorio)"
   ]
  },
  {
   "cell_type": "markdown",
   "metadata": {},
   "source": [
    "<a id='entendimento-do-problema'></a>\n",
    "# 1. Entendimento do problema"
   ]
  },
  {
   "cell_type": "markdown",
   "metadata": {},
   "source": [
    "Este projeto envolve a criação de um modelo para prever a atividade humana com base em dados de sensores. As atividades que estamos tentando prever são as seguintes:\n",
    "\n",
    "1. **Caminhando** (WALKING)\n",
    "2. **Subindo escadas** (WALKING_UPSTAIRS)\n",
    "3. **Descendo escadas** (WALKING_DOWNSTAIRS)\n",
    "4. **Sentado** (SITTING)\n",
    "5. **Em pé** (STANDING)\n",
    "6. **Deitado** (LAYING)\n",
    "\n",
    "Os dados para este projeto vêm de sinais brutos do acelerômetro e giroscópio 3-axial. Esses sinais foram capturados a uma taxa constante de 50 Hz e foram filtrados para remover o ruído. Além disso, o sinal de aceleração foi separado em sinais de aceleração do corpo e da gravidade. A partir desses sinais, várias variáveis foram estimadas para criar um vetor de recursos para cada padrão.\n",
    "\n",
    "Modelos como este são comumente usados em smartphones e smartwatches. Eles são importantes porque fornecem informações valiosas sobre a atividade física e a saúde do usuário. Por exemplo, eles podem ajudar a monitorar a quantidade de tempo que um usuário passa em diferentes tipos de atividades físicas, o que pode ser útil para rastrear a saúde e o condicionamento físico."
   ]
  },
  {
   "cell_type": "markdown",
   "metadata": {},
   "source": [
    "<a id='bibliotecas'></a>\n",
    "# 2. Bibliotecas"
   ]
  },
  {
   "cell_type": "code",
   "execution_count": 78,
   "metadata": {},
   "outputs": [],
   "source": [
    "import pandas as pd\n",
    "import matplotlib.pyplot as plt\n",
    "import seaborn as sns\n",
    "import numpy as np\n",
    "import plotly.express as px\n",
    "\n",
    "from sklearn.discriminant_analysis import LinearDiscriminantAnalysis as LDA\n",
    "from ydata_profiling import ProfileReport\n",
    "from sklearn.tree import DecisionTreeClassifier\n",
    "from sklearn.decomposition import PCA\n",
    "from sklearn.tree import DecisionTreeClassifier\n",
    "from sklearn.metrics import accuracy_score\n",
    "from pycaret.classification import *"
   ]
  },
  {
   "cell_type": "markdown",
   "metadata": {},
   "source": [
    "<a id='entendimento-dos-dados'></a>\n",
    "# 3. Entendimento dos Dados"
   ]
  },
  {
   "cell_type": "markdown",
   "metadata": {},
   "source": [
    "Os dados para este projeto são importados de vários arquivos. Cada arquivo contém uma parte específica dos dados que serão usados para treinar e testar o modelo.\n",
    "\n",
    "Os nomes das variáveis explicativas, que são 561 no total, estão armazenados no arquivo 'features.txt'. Cada linha neste arquivo representa o nome de uma variável explicativa.\n",
    "\n",
    "As labels, que representam as atividades que estamos tentando prever, estão armazenadas no arquivo 'activity_labels.txt'. As atividades são as seguintes:\n",
    "\n",
    "1. **Caminhando** (WALKING)\n",
    "2. **Subindo escadas** (WALKING_UPSTAIRS)\n",
    "3. **Descendo escadas** (WALKING_DOWNSTAIRS)\n",
    "4. **Sentado** (SITTING)\n",
    "5. **Em pé** (STANDING)\n",
    "6. **Deitado** (LAYING)\n",
    "\n",
    "Os dados de treinamento estão divididos em três arquivos: 'subject_train.txt', 'X_train.txt' e 'y_train.txt'. O arquivo 'subject_train.txt' contém os IDs dos sujeitos para o conjunto de treinamento. O arquivo 'X_train.txt' contém os dados de treinamento para as variáveis explicativas. O arquivo 'y_train.txt' contém os dados de treinamento para as labels.\n",
    "\n",
    "Da mesma forma, os dados de teste estão divididos em três arquivos: 'subject_test.txt', 'X_test.txt' e 'y_test.txt'. O arquivo 'subject_test.txt' contém os IDs dos sujeitos para o conjunto de teste. O arquivo 'X_test.txt' contém os dados de teste para as variáveis explicativas. O arquivo 'y_test.txt' contém os dados de teste para as labels.\n",
    "\n",
    "Esses dados são lidos e armazenados em dataframes do pandas para posterior análise e modelagem. A separação dos dados em conjuntos de treinamento e teste permite que o modelo seja treinado em um conjunto de dados e depois testado em um conjunto de dados separado. Isso ajuda a garantir que o modelo seja capaz de generalizar bem para novos dados.\n",
    "\n",
    "Todos esses arquivos podem ser encontrados no seguinte link: https://archive.ics.uci.edu/dataset/240/human+activity+recognition+using+smartphones"
   ]
  },
  {
   "cell_type": "markdown",
   "metadata": {},
   "source": [
    "<a id='carregando-os-dados'></a>\n",
    "## 3.1 Carregando os Dados"
   ]
  },
  {
   "cell_type": "code",
   "execution_count": 2,
   "metadata": {},
   "outputs": [],
   "source": [
    "filename_features = \"./Dados/UCI HAR Dataset/features.txt\"\n",
    "filename_labels = \"./Dados/UCI HAR Dataset/activity_labels.txt\"\n",
    "\n",
    "filename_subtrain = \"./Dados/UCI HAR Dataset/train/subject_train.txt\"\n",
    "filename_xtrain = \"./Dados/UCI HAR Dataset/train/X_train.txt\"\n",
    "filename_ytrain = \"./Dados/UCI HAR Dataset/train/y_train.txt\"\n",
    "\n",
    "filename_subtest = \"./Dados/UCI HAR Dataset/test/subject_test.txt\"\n",
    "ffilename_xtest = \"./Dados/UCI HAR Dataset/test/X_test.txt\"\n",
    "filename_ytest = \"./Dados/UCI HAR Dataset/test/y_test.txt\"\n",
    "\n",
    "features = pd.read_csv(filename_features, header=None, names=['nome_var'], sep=\"#\")\n",
    "labels = pd.read_csv(filename_labels, delim_whitespace=True, header=None, names=['cod_label', 'label'])\n",
    "\n",
    "subject_train = pd.read_csv(filename_subtrain, header=None, names=['subject_id'])\n",
    "X_train = pd.read_csv(filename_xtrain, delim_whitespace=True, header=None, names=features['nome_var'].tolist())\n",
    "y_train = pd.read_csv(filename_ytrain, header=None, names=['cod_label'])\n",
    "\n",
    "subject_test = pd.read_csv(filename_subtest, header=None, names=['subject_id'])\n",
    "X_test = pd.read_csv(ffilename_xtest, delim_whitespace=True, header=None, names=features['nome_var'].tolist())\n",
    "y_test = pd.read_csv(filename_ytest, header=None, names=['cod_label'])"
   ]
  },
  {
   "cell_type": "code",
   "execution_count": 3,
   "metadata": {},
   "outputs": [],
   "source": [
    "# Criando o dataframe de treinamento\n",
    "df_train = pd.concat([subject_train, X_train, y_train], axis=1)\n",
    "\n",
    "# Criando o dataframe de teste\n",
    "df_test = pd.concat([subject_test, X_test], axis=1)"
   ]
  },
  {
   "cell_type": "markdown",
   "metadata": {},
   "source": [
    "<a id='primeiras-impressoes-dos-dados'></a>\n",
    "## 3.2 Primeiras imprensões dos dados"
   ]
  },
  {
   "cell_type": "code",
   "execution_count": 4,
   "metadata": {},
   "outputs": [
    {
     "data": {
      "text/plain": [
       "(7352, 563)"
      ]
     },
     "execution_count": 4,
     "metadata": {},
     "output_type": "execute_result"
    }
   ],
   "source": [
    "# Obtém o tamanho dos dados\n",
    "df_train.shape"
   ]
  },
  {
   "cell_type": "code",
   "execution_count": 5,
   "metadata": {},
   "outputs": [
    {
     "data": {
      "text/html": [
       "<div>\n",
       "<style scoped>\n",
       "    .dataframe tbody tr th:only-of-type {\n",
       "        vertical-align: middle;\n",
       "    }\n",
       "\n",
       "    .dataframe tbody tr th {\n",
       "        vertical-align: top;\n",
       "    }\n",
       "\n",
       "    .dataframe thead th {\n",
       "        text-align: right;\n",
       "    }\n",
       "</style>\n",
       "<table border=\"1\" class=\"dataframe\">\n",
       "  <thead>\n",
       "    <tr style=\"text-align: right;\">\n",
       "      <th></th>\n",
       "      <th>Tipo</th>\n",
       "      <th>Quantidade</th>\n",
       "      <th>Variáveis</th>\n",
       "    </tr>\n",
       "  </thead>\n",
       "  <tbody>\n",
       "    <tr>\n",
       "      <th>0</th>\n",
       "      <td>float64</td>\n",
       "      <td>561</td>\n",
       "      <td>NaN</td>\n",
       "    </tr>\n",
       "    <tr>\n",
       "      <th>1</th>\n",
       "      <td>int64</td>\n",
       "      <td>2</td>\n",
       "      <td>subject_id, cod_label</td>\n",
       "    </tr>\n",
       "  </tbody>\n",
       "</table>\n",
       "</div>"
      ],
      "text/plain": [
       "      Tipo  Quantidade              Variáveis\n",
       "0  float64         561                    NaN\n",
       "1    int64           2  subject_id, cod_label"
      ]
     },
     "execution_count": 5,
     "metadata": {},
     "output_type": "execute_result"
    }
   ],
   "source": [
    "# Obtém a quantidade de cada tipo de variável\n",
    "types = df_train.dtypes.value_counts()\n",
    "\n",
    "# Cria um dataframe para armazenar os resultados\n",
    "profile = pd.DataFrame({'Tipo': types.index, 'Quantidade': types.values})\n",
    "\n",
    "# Para cada tipo de variável, se houver menos de 4 variáveis desse tipo,\n",
    "# adiciona os nomes dessas variáveis ao dataframe de resultados\n",
    "for dtype in profile['Tipo']:\n",
    "    if profile.loc[profile['Tipo'] == dtype, 'Quantidade'].values[0] < 4:\n",
    "        var_names = df_train.select_dtypes(include=[dtype]).columns.tolist()\n",
    "        profile.loc[profile['Tipo'] == dtype, 'Variáveis'] = ', '.join(var_names)\n",
    "\n",
    "profile"
   ]
  },
  {
   "cell_type": "markdown",
   "metadata": {},
   "source": [
    "- Como vimos, toda base é numérica, até a própria classe foi codificada em: \n",
    "1 WALKING\n",
    "2 WALKING_UPSTAIRS\n",
    "3 WALKING_DOWNSTAIRS\n",
    "4 SITTING\n",
    "5 STANDING\n",
    "6 LAYING\n"
   ]
  },
  {
   "cell_type": "code",
   "execution_count": 6,
   "metadata": {},
   "outputs": [
    {
     "data": {
      "text/plain": [
       "0"
      ]
     },
     "execution_count": 6,
     "metadata": {},
     "output_type": "execute_result"
    }
   ],
   "source": [
    "# Verifica se há dados faltantes\n",
    "df_train.isnull().sum().sum()"
   ]
  },
  {
   "cell_type": "markdown",
   "metadata": {},
   "source": [
    "<a id='PCA'></a>\n",
    "# 4. PCA"
   ]
  },
  {
   "cell_type": "markdown",
   "metadata": {},
   "source": [
    "A Análise de Componentes Principais (PCA) é uma técnica de **redução de dimensionalidade** que é comumente usada em aprendizado de máquina e visualização de dados de alta dimensão. A ideia do PCA é simples — reduzir o número de variáveis de um conjunto de dados, mantendo ao mesmo tempo a maior quantidade possível de informação.\n",
    "\n",
    "O PCA transforma um grande conjunto de variáveis possivelmente correlacionadas em um conjunto menor de variáveis não correlacionadas chamadas **componentes principais**.\n",
    "\n",
    "Primeiro, o PCA calcula a **matriz de covariância** dos dados para entender como as variáveis do conjunto de dados estão correlacionadas. Em seguida, o PCA encontra os **autovalores e autovetores** da matriz de covariância. Os autovetores (que correspondem aos autovalores maiores) tornam-se os componentes principais (as novas variáveis) do conjunto de dados.\n",
    "\n",
    "Matematicamente, se tivermos um conjunto de dados $X$ com variáveis correlacionadas, o PCA encontrará uma matriz de transformação $P$ que irá transformar $X$ em $Y$, onde $Y$ é um conjunto de dados com variáveis não correlacionadas. As linhas de $P$ são os autovetores da matriz de covariância de $X$.\n",
    "\n",
    "$$Y = PX$$\n",
    "\n",
    "Neste caso, temos um conjunto de dados com um grande número de variáveis (561 variáveis). Isso pode tornar o processo de treinamento do modelo muito lento e também pode levar a um modelo que é complexo e difícil de interpretar.\n",
    "\n",
    "Ao aplicar o PCA, podemos reduzir o número de variáveis para um valor menor que ainda retém a maior parte da informação do conjunto de dados original. Isso pode ajudar a **acelerar o treinamento do modelo** e também pode melhorar a **interpretabilidade do modelo**, pois teremos menos variáveis para considerar."
   ]
  },
  {
   "cell_type": "markdown",
   "metadata": {},
   "source": [
    "<a id='pad-PCA'></a>\n",
    "## 4.1 Padronização PCA"
   ]
  },
  {
   "cell_type": "markdown",
   "metadata": {},
   "source": [
    "Como vimos matemáticamente a escala é importante para a criação das **componentes principais**, no nosso caso, são variéveis vindas do giroscópio e acelerometro, parecem estar em escalas parecidas, porém como são mais de **500 variáveis** explicativas, vale a pena criar um data frame padronizado, e outro como está para valiarmos os resultados."
   ]
  },
  {
   "cell_type": "markdown",
   "metadata": {},
   "source": [
    "### Df PCA com padronização"
   ]
  },
  {
   "cell_type": "code",
   "execution_count": 32,
   "metadata": {},
   "outputs": [],
   "source": [
    "# Importando as bibliotecas necessárias\n",
    "from sklearn.preprocessing import StandardScaler\n",
    "\n",
    "# Removendo a variável de resposta e a identificação do voluntário\n",
    "df_train_features = df_train.drop(['cod_label', 'subject_id'], axis=1)\n",
    "\n",
    "# Criando o padronizador\n",
    "scaler = StandardScaler()\n",
    "\n",
    "# Ajustando e transformando os dados\n",
    "df_train_pad = scaler.fit_transform(df_train_features)\n",
    "\n",
    "# Convertendo de volta para um DataFrame\n",
    "df_train_pad = pd.DataFrame(df_train_pad, columns=df_train_features.columns)"
   ]
  },
  {
   "cell_type": "code",
   "execution_count": 44,
   "metadata": {},
   "outputs": [],
   "source": [
    "# Criando uma instância do PCA para os dados padronizados\n",
    "pca_pad = PCA()\n",
    "\n",
    "# Aplicando PCA aos dados padronizados\n",
    "princomp_pad = pca_pad.fit(df_train_pad)\n",
    "\n",
    "# Numero de colunas para nomear componentes\n",
    "n_componentes_pad = df_train_pad.shape[1]\n",
    "\n",
    "# Transformando linearmente os dados padronizados\n",
    "componentes_pad = princomp_pad.transform(df_train_pad)\n",
    "\n",
    "# Renomeando as componentes\n",
    "nomes_pca_pad = ['CP'+str(x+1) for x in list(range(n_componentes_pad))]\n",
    "\n",
    "# DF das CPs com padronização\n",
    "CP_pad = pd.DataFrame(data = componentes_pad, columns = nomes_pca_pad)"
   ]
  },
  {
   "cell_type": "markdown",
   "metadata": {},
   "source": [
    "### Df PCA sem padronização"
   ]
  },
  {
   "cell_type": "code",
   "execution_count": 45,
   "metadata": {},
   "outputs": [],
   "source": [
    "# Criando uma instância do PCA para os dados originais\n",
    "pca = PCA()\n",
    "\n",
    "# Aplicando PCA aos dados originais\n",
    "princomp = pca.fit(df_train_features)\n",
    "\n",
    "# Numero de colunas para nomear componentes\n",
    "n_componentes = df_train_features.shape[1]\n",
    "\n",
    "# Transformando linearmente os dados sem padronização\n",
    "componentes = princomp.transform(df_train_features)\n",
    "\n",
    "# Renomeando as componentes\n",
    "nomes_pca = ['CP'+str(x+1) for x in list(range(n_componentes))]\n",
    "\n",
    "# DF das CPs sem padronização\n",
    "CP = pd.DataFrame(data = componentes, columns = nomes_pca)"
   ]
  },
  {
   "cell_type": "markdown",
   "metadata": {},
   "source": [
    "<a id='descritiva-pad'></a>\n",
    "## 4.2 Descritiva PCA e PAD"
   ]
  },
  {
   "cell_type": "markdown",
   "metadata": {},
   "source": [
    "### A variância explicada por componente:"
   ]
  },
  {
   "cell_type": "markdown",
   "metadata": {},
   "source": [
    "A **variância explicada** em PCA é a proporção da variação total nos dados que é capturada por um componente. Quanto maior a variância explicada, mais informações ou 'variação' são capturadas pelo componente. Portanto, um valor maior é geralmente melhor, pois significa que mais da estrutura subjacente nos dados está sendo capturada."
   ]
  },
  {
   "cell_type": "code",
   "execution_count": 46,
   "metadata": {},
   "outputs": [
    {
     "data": {
      "text/plain": [
       "34.82363040636603"
      ]
     },
     "execution_count": 46,
     "metadata": {},
     "output_type": "execute_result"
    }
   ],
   "source": [
    "# A variância dos auto vetores são os auto valores, variância do PCA não padronizado\n",
    "var_exp = princomp.explained_variance_\n",
    "var_exp[0]"
   ]
  },
  {
   "cell_type": "code",
   "execution_count": 47,
   "metadata": {},
   "outputs": [
    {
     "data": {
      "text/plain": [
       "284.92113078844505"
      ]
     },
     "execution_count": 47,
     "metadata": {},
     "output_type": "execute_result"
    }
   ],
   "source": [
    "# Variância do PCA padronizado\n",
    "var_exp_pad = princomp_pad.explained_variance_\n",
    "var_exp_pad[0]"
   ]
  },
  {
   "cell_type": "markdown",
   "metadata": {},
   "source": [
    "### A variância explicada acumulada por componente: "
   ]
  },
  {
   "cell_type": "code",
   "execution_count": 48,
   "metadata": {},
   "outputs": [],
   "source": [
    "#A variância dos auto vetores são os auto valores, cumsum() é a soma acumulada de cada componente\n",
    "\n",
    "# Variância acumulada do PCA não padronizado\n",
    "var_exp_cumsum = princomp.explained_variance_.cumsum()\n",
    "\n",
    "# Variância acumulada do PCA padronizado\n",
    "var_exp_cumsum_pad = princomp_pad.explained_variance_.cumsum()"
   ]
  },
  {
   "cell_type": "code",
   "execution_count": 49,
   "metadata": {},
   "outputs": [
    {
     "data": {
      "image/png": "[encoded data removed]",
      "text/plain": [
       "<Figure size 640x480 with 1 Axes>"
      ]
     },
     "metadata": {},
     "output_type": "display_data"
    }
   ],
   "source": [
    "# Número de componentes principais\n",
    "num_componentes_cumsum = len(var_exp_cumsum_pad)\n",
    "\n",
    "# Números de componentes para o eixo x\n",
    "componentes_cumsum = range(1, num_componentes_cumsum + 1)\n",
    "\n",
    "# Plotando o gráfico de linha\n",
    "plt.plot(componentes_cumsum, var_exp_cumsum_pad, label='PCA Padronizado')\n",
    "plt.plot(componentes_cumsum, var_exp_cumsum, label='PCA Não Padronizado')\n",
    "\n",
    "# Configurações do gráfico\n",
    "plt.xlabel('Número de Componentes Principais')\n",
    "plt.ylabel('Soma Acumulada da Variância Explicada')\n",
    "plt.title('Comparação do PCA Padronizado e Não Padronizado')\n",
    "plt.legend()\n",
    "\n",
    "# Exibindo o gráfico\n",
    "plt.show()"
   ]
  },
  {
   "cell_type": "markdown",
   "metadata": {},
   "source": [
    "- Nota-se o quanto o PCA padronizado explica mais com menos componentes"
   ]
  },
  {
   "cell_type": "markdown",
   "metadata": {},
   "source": [
    "### A variância percentual acumulada por componente: "
   ]
  },
  {
   "cell_type": "code",
   "execution_count": 52,
   "metadata": {},
   "outputs": [],
   "source": [
    "# Percentual da variância do PCA não padronizado\n",
    "var_perc = princomp.explained_variance_ratio_\n",
    "\n",
    "# Percentual da variância do PCA padronizado\n",
    "var_perc_pad = princomp_pad.explained_variance_ratio_\n",
    "\n",
    "# Percentual da variância acumulada do PCA não padronizado\n",
    "var_cumperc = princomp.explained_variance_ratio_.cumsum()\n",
    "\n",
    "# Percentual da variância acumulada do PCA padronizado\n",
    "var_cumperc_pad = princomp_pad.explained_variance_ratio_.cumsum()"
   ]
  },
  {
   "cell_type": "code",
   "execution_count": 53,
   "metadata": {},
   "outputs": [
    {
     "data": {
      "image/png": "[encoded data removed]",
      "text/plain": [
       "<Figure size 640x480 with 1 Axes>"
      ]
     },
     "metadata": {},
     "output_type": "display_data"
    }
   ],
   "source": [
    "# Número de componentes principais\n",
    "num_componentes_cumperc = len(var_cumperc_pad)\n",
    "\n",
    "# Números de componentes para o eixo x\n",
    "componentes_cumperc = range(1, num_componentes_cumperc + 1)\n",
    "\n",
    "# Plotando o gráfico de linha\n",
    "plt.plot(componentes_cumperc, var_cumperc_pad, label='PCA Padronizado')\n",
    "plt.plot(componentes_cumperc, var_cumperc, label='PCA Não Padronizado')\n",
    "\n",
    "# Configurações do gráfico\n",
    "plt.xlabel('Número de Componentes Principais')\n",
    "plt.ylabel('Porcentagem da Variância Acumulada Explicada')\n",
    "plt.title('Comparação do PCA Padronizado e Não Padronizado')\n",
    "plt.legend()\n",
    "\n",
    "\n",
    "# Exibindo o gráfico\n",
    "plt.show()"
   ]
  },
  {
   "cell_type": "code",
   "execution_count": 74,
   "metadata": {},
   "outputs": [
    {
     "name": "stdout",
     "output_type": "stream",
     "text": [
      "Número de componentes sem PAD necessárias para atingir 90.0% de variância explicada: 33\n"
     ]
    }
   ],
   "source": [
    "# O número de componentes necessárias para atingir 90% de variância explicada com o PCA não padronizado\n",
    "objetivo = 0.90\n",
    "num_components = np.argmax(var_cumperc >= objetivo)\n",
    "\n",
    "print(f\"Número de componentes sem PAD necessárias para atingir {objetivo*100}% de variância explicada: {num_components}\")"
   ]
  },
  {
   "cell_type": "code",
   "execution_count": 73,
   "metadata": {},
   "outputs": [
    {
     "name": "stdout",
     "output_type": "stream",
     "text": [
      "Número de componentes com PAD necessárias para atingir 90.0% de variância explicada: 62\n"
     ]
    }
   ],
   "source": [
    "# O número de componentes necessárias para atingir 90% de variância explicada com o PCA padronizado\n",
    "objetivo = 0.90\n",
    "num_components = np.argmax(var_cumperc_pad >= objetivo)\n",
    "\n",
    "print(f\"Número de componentes com PAD necessárias para atingir {objetivo*100}% de variância explicada: {num_components}\")"
   ]
  },
  {
   "cell_type": "markdown",
   "metadata": {},
   "source": [
    "-  Vemos que o PCA padronizado sobe mais lentamente que o não padronizado, porém bate 90% bem próximo um do outro. Isso faz sentido pela estrutura inicial dos dados, os dados já vem com padrões dos sensores, e bem estruturados. Vamos avaliar os dois em teste !"
   ]
  },
  {
   "cell_type": "markdown",
   "metadata": {},
   "source": [
    "<a id='LDA'></a>\n",
    "# 5. Descritiva LDA"
   ]
  },
  {
   "cell_type": "markdown",
   "metadata": {},
   "source": [
    "A **Análise Discriminante Linear (LDA)** é uma técnica estatística usada para encontrar uma combinação linear de características que caracterizam ou separam duas ou mais classes de objetos ou eventos. A ideia é projetar um conjunto de dados em um espaço de menor dimensão com boa separação de classe para evitar a maldição da dimensionalidade ao mesmo tempo em que se mantém o máximo de informações relevantes.\n",
    "\n",
    "Matematicamente, a LDA mapeia dados de entrada $$x$$ em um espaço de saída $$y$$ através de uma função discriminante:\n",
    "\n",
    "$$y = w^Tx$$\n",
    "\n",
    "onde $$w$$ é o vetor de pesos.\n",
    "\n",
    "O objetivo da LDA é maximizar a distância entre as médias das duas classes (chamada de distância entre classes ou **scatter between**) enquanto minimiza a variância dentro de cada classe (chamada de scatter dentro da classe ou **scatter within**). Isso é feito através da seguinte função objetivo:\n",
    "\n",
    "$$J(w) = \\frac{w^TS_Bw}{w^TS_Ww}$$\n",
    "\n",
    "onde $$S_B$$ é a matriz de scatter between e $$S_W$$ é a matriz de scatter within.\n",
    "\n",
    "A solução para essa função objetivo é dada pelo problema de autovalores:\n",
    "\n",
    "$$S_W^{-1}S_Bw = \\lambda w$$\n",
    "\n",
    "Os autovetores correspondentes aos maiores autovalores são os que formam o espaço de características discriminantes.\n",
    "\n",
    "Como vimos as **62 primeiras variáveis principais, explicam 90 % dos dados** e para isso vamos usar a LDA nessas 62\n"
   ]
  },
  {
   "cell_type": "code",
   "execution_count": 75,
   "metadata": {},
   "outputs": [
    {
     "data": {
      "application/vnd.plotly.v1+json": {
       "config": {
        "plotlyServerURL": "https://plot.ly"
       },
       "data": [
        {
         "hovertemplate": "Classe=%{x}<br>Variável=%{y}<extra></extra>",
         "legendgroup": "",
         "marker": {
          "color": "#636efa",
          "symbol": "circle"
         },
         "mode": "markers",
         "name": "",
         "orientation": "v",
         "showlegend": false,
         "type": "scatter",
         "x": [
          "Caminhando",
          "Caminhando",
          "Caminhando",
          "Deitado",
          "Deitado",
          "Deitado",
          "Descendo Escadas",
          "Descendo Escadas",
          "Descendo Escadas",
          "Em Pé",
          "Em Pé",
          "Em Pé",
          "Sentado",
          "Sentado",
          "Sentado",
          "Subindo Escadas",
          "Subindo Escadas",
          "Subindo Escadas"
         ],
         "xaxis": "x",
         "y": [
          "CP26",
          "CP1",
          "CP3",
          "CP5",
          "CP4",
          "CP3",
          "CP3",
          "CP1",
          "CP10",
          "CP39",
          "CP1",
          "CP5",
          "CP10",
          "CP1",
          "CP5",
          "CP10",
          "CP1",
          "CP3"
         ],
         "yaxis": "y"
        }
       ],
       "layout": {
        "legend": {
         "tracegroupgap": 0
        },
        "template": {
         "data": {
          "bar": [
           {
            "error_x": {
             "color": "#2a3f5f"
            },
            "error_y": {
             "color": "#2a3f5f"
            },
            "marker": {
             "line": {
              "color": "#E5ECF6",
              "width": 0.5
             },
             "pattern": {
              "fillmode": "overlay",
              "size": 10,
              "solidity": 0.2
             }
            },
            "type": "bar"
           }
          ],
          "barpolar": [
           {
            "marker": {
             "line": {
              "color": "#E5ECF6",
              "width": 0.5
             },
             "pattern": {
              "fillmode": "overlay",
              "size": 10,
              "solidity": 0.2
             }
            },
            "type": "barpolar"
           }
          ],
          "carpet": [
           {
            "aaxis": {
             "endlinecolor": "#2a3f5f",
             "gridcolor": "white",
             "linecolor": "white",
             "minorgridcolor": "white",
             "startlinecolor": "#2a3f5f"
            },
            "baxis": {
             "endlinecolor": "#2a3f5f",
             "gridcolor": "white",
             "linecolor": "white",
             "minorgridcolor": "white",
             "startlinecolor": "#2a3f5f"
            },
            "type": "carpet"
           }
          ],
          "choropleth": [
           {
            "colorbar": {
             "outlinewidth": 0,
             "ticks": ""
            },
            "type": "choropleth"
           }
          ],
          "contour": [
           {
            "colorbar": {
             "outlinewidth": 0,
             "ticks": ""
            },
            "colorscale": [
             [
              0,
              "#0d0887"
             ],
             [
              0.1111111111111111,
              "#46039f"
             ],
             [
              0.2222222222222222,
              "#7201a8"
             ],
             [
              0.3333333333333333,
              "#9c179e"
             ],
             [
              0.4444444444444444,
              "#bd3786"
             ],
             [
              0.5555555555555556,
              "#d8576b"
             ],
             [
              0.6666666666666666,
              "#ed7953"
             ],
             [
              0.7777777777777778,
              "#fb9f3a"
             ],
             [
              0.8888888888888888,
              "#fdca26"
             ],
             [
              1,
              "#f0f921"
             ]
            ],
            "type": "contour"
           }
          ],
          "contourcarpet": [
           {
            "colorbar": {
             "outlinewidth": 0,
             "ticks": ""
            },
            "type": "contourcarpet"
           }
          ],
          "heatmap": [
           {
            "colorbar": {
             "outlinewidth": 0,
             "ticks": ""
            },
            "colorscale": [
             [
              0,
              "#0d0887"
             ],
             [
              0.1111111111111111,
              "#46039f"
             ],
             [
              0.2222222222222222,
              "#7201a8"
             ],
             [
              0.3333333333333333,
              "#9c179e"
             ],
             [
              0.4444444444444444,
              "#bd3786"
             ],
             [
              0.5555555555555556,
              "#d8576b"
             ],
             [
              0.6666666666666666,
              "#ed7953"
             ],
             [
              0.7777777777777778,
              "#fb9f3a"
             ],
             [
              0.8888888888888888,
              "#fdca26"
             ],
             [
              1,
              "#f0f921"
             ]
            ],
            "type": "heatmap"
           }
          ],
          "heatmapgl": [
           {
            "colorbar": {
             "outlinewidth": 0,
             "ticks": ""
            },
            "colorscale": [
             [
              0,
              "#0d0887"
             ],
             [
              0.1111111111111111,
              "#46039f"
             ],
             [
              0.2222222222222222,
              "#7201a8"
             ],
             [
              0.3333333333333333,
              "#9c179e"
             ],
             [
              0.4444444444444444,
              "#bd3786"
             ],
             [
              0.5555555555555556,
              "#d8576b"
             ],
             [
              0.6666666666666666,
              "#ed7953"
             ],
             [
              0.7777777777777778,
              "#fb9f3a"
             ],
             [
              0.8888888888888888,
              "#fdca26"
             ],
             [
              1,
              "#f0f921"
             ]
            ],
            "type": "heatmapgl"
           }
          ],
          "histogram": [
           {
            "marker": {
             "pattern": {
              "fillmode": "overlay",
              "size": 10,
              "solidity": 0.2
             }
            },
            "type": "histogram"
           }
          ],
          "histogram2d": [
           {
            "colorbar": {
             "outlinewidth": 0,
             "ticks": ""
            },
            "colorscale": [
             [
              0,
              "#0d0887"
             ],
             [
              0.1111111111111111,
              "#46039f"
             ],
             [
              0.2222222222222222,
              "#7201a8"
             ],
             [
              0.3333333333333333,
              "#9c179e"
             ],
             [
              0.4444444444444444,
              "#bd3786"
             ],
             [
              0.5555555555555556,
              "#d8576b"
             ],
             [
              0.6666666666666666,
              "#ed7953"
             ],
             [
              0.7777777777777778,
              "#fb9f3a"
             ],
             [
              0.8888888888888888,
              "#fdca26"
             ],
             [
              1,
              "#f0f921"
             ]
            ],
            "type": "histogram2d"
           }
          ],
          "histogram2dcontour": [
           {
            "colorbar": {
             "outlinewidth": 0,
             "ticks": ""
            },
            "colorscale": [
             [
              0,
              "#0d0887"
             ],
             [
              0.1111111111111111,
              "#46039f"
             ],
             [
              0.2222222222222222,
              "#7201a8"
             ],
             [
              0.3333333333333333,
              "#9c179e"
             ],
             [
              0.4444444444444444,
              "#bd3786"
             ],
             [
              0.5555555555555556,
              "#d8576b"
             ],
             [
              0.6666666666666666,
              "#ed7953"
             ],
             [
              0.7777777777777778,
              "#fb9f3a"
             ],
             [
              0.8888888888888888,
              "#fdca26"
             ],
             [
              1,
              "#f0f921"
             ]
            ],
            "type": "histogram2dcontour"
           }
          ],
          "mesh3d": [
           {
            "colorbar": {
             "outlinewidth": 0,
             "ticks": ""
            },
            "type": "mesh3d"
           }
          ],
          "parcoords": [
           {
            "line": {
             "colorbar": {
              "outlinewidth": 0,
              "ticks": ""
             }
            },
            "type": "parcoords"
           }
          ],
          "pie": [
           {
            "automargin": true,
            "type": "pie"
           }
          ],
          "scatter": [
           {
            "fillpattern": {
             "fillmode": "overlay",
             "size": 10,
             "solidity": 0.2
            },
            "type": "scatter"
           }
          ],
          "scatter3d": [
           {
            "line": {
             "colorbar": {
              "outlinewidth": 0,
              "ticks": ""
             }
            },
            "marker": {
             "colorbar": {
              "outlinewidth": 0,
              "ticks": ""
             }
            },
            "type": "scatter3d"
           }
          ],
          "scattercarpet": [
           {
            "marker": {
             "colorbar": {
              "outlinewidth": 0,
              "ticks": ""
             }
            },
            "type": "scattercarpet"
           }
          ],
          "scattergeo": [
           {
            "marker": {
             "colorbar": {
              "outlinewidth": 0,
              "ticks": ""
             }
            },
            "type": "scattergeo"
           }
          ],
          "scattergl": [
           {
            "marker": {
             "colorbar": {
              "outlinewidth": 0,
              "ticks": ""
             }
            },
            "type": "scattergl"
           }
          ],
          "scattermapbox": [
           {
            "marker": {
             "colorbar": {
              "outlinewidth": 0,
              "ticks": ""
             }
            },
            "type": "scattermapbox"
           }
          ],
          "scatterpolar": [
           {
            "marker": {
             "colorbar": {
              "outlinewidth": 0,
              "ticks": ""
             }
            },
            "type": "scatterpolar"
           }
          ],
          "scatterpolargl": [
           {
            "marker": {
             "colorbar": {
              "outlinewidth": 0,
              "ticks": ""
             }
            },
            "type": "scatterpolargl"
           }
          ],
          "scatterternary": [
           {
            "marker": {
             "colorbar": {
              "outlinewidth": 0,
              "ticks": ""
             }
            },
            "type": "scatterternary"
           }
          ],
          "surface": [
           {
            "colorbar": {
             "outlinewidth": 0,
             "ticks": ""
            },
            "colorscale": [
             [
              0,
              "#0d0887"
             ],
             [
              0.1111111111111111,
              "#46039f"
             ],
             [
              0.2222222222222222,
              "#7201a8"
             ],
             [
              0.3333333333333333,
              "#9c179e"
             ],
             [
              0.4444444444444444,
              "#bd3786"
             ],
             [
              0.5555555555555556,
              "#d8576b"
             ],
             [
              0.6666666666666666,
              "#ed7953"
             ],
             [
              0.7777777777777778,
              "#fb9f3a"
             ],
             [
              0.8888888888888888,
              "#fdca26"
             ],
             [
              1,
              "#f0f921"
             ]
            ],
            "type": "surface"
           }
          ],
          "table": [
           {
            "cells": {
             "fill": {
              "color": "#EBF0F8"
             },
             "line": {
              "color": "white"
             }
            },
            "header": {
             "fill": {
              "color": "#C8D4E3"
             },
             "line": {
              "color": "white"
             }
            },
            "type": "table"
           }
          ]
         },
         "layout": {
          "annotationdefaults": {
           "arrowcolor": "#2a3f5f",
           "arrowhead": 0,
           "arrowwidth": 1
          },
          "autotypenumbers": "strict",
          "coloraxis": {
           "colorbar": {
            "outlinewidth": 0,
            "ticks": ""
           }
          },
          "colorscale": {
           "diverging": [
            [
             0,
             "#8e0152"
            ],
            [
             0.1,
             "#c51b7d"
            ],
            [
             0.2,
             "#de77ae"
            ],
            [
             0.3,
             "#f1b6da"
            ],
            [
             0.4,
             "#fde0ef"
            ],
            [
             0.5,
             "#f7f7f7"
            ],
            [
             0.6,
             "#e6f5d0"
            ],
            [
             0.7,
             "#b8e186"
            ],
            [
             0.8,
             "#7fbc41"
            ],
            [
             0.9,
             "#4d9221"
            ],
            [
             1,
             "#276419"
            ]
           ],
           "sequential": [
            [
             0,
             "#0d0887"
            ],
            [
             0.1111111111111111,
             "#46039f"
            ],
            [
             0.2222222222222222,
             "#7201a8"
            ],
            [
             0.3333333333333333,
             "#9c179e"
            ],
            [
             0.4444444444444444,
             "#bd3786"
            ],
            [
             0.5555555555555556,
             "#d8576b"
            ],
            [
             0.6666666666666666,
             "#ed7953"
            ],
            [
             0.7777777777777778,
             "#fb9f3a"
            ],
            [
             0.8888888888888888,
             "#fdca26"
            ],
            [
             1,
             "#f0f921"
            ]
           ],
           "sequentialminus": [
            [
             0,
             "#0d0887"
            ],
            [
             0.1111111111111111,
             "#46039f"
            ],
            [
             0.2222222222222222,
             "#7201a8"
            ],
            [
             0.3333333333333333,
             "#9c179e"
            ],
            [
             0.4444444444444444,
             "#bd3786"
            ],
            [
             0.5555555555555556,
             "#d8576b"
            ],
            [
             0.6666666666666666,
             "#ed7953"
            ],
            [
             0.7777777777777778,
             "#fb9f3a"
            ],
            [
             0.8888888888888888,
             "#fdca26"
            ],
            [
             1,
             "#f0f921"
            ]
           ]
          },
          "colorway": [
           "#636efa",
           "#EF553B",
           "#00cc96",
           "#ab63fa",
           "#FFA15A",
           "#19d3f3",
           "#FF6692",
           "#B6E880",
           "#FF97FF",
           "#FECB52"
          ],
          "font": {
           "color": "#2a3f5f"
          },
          "geo": {
           "bgcolor": "white",
           "lakecolor": "white",
           "landcolor": "#E5ECF6",
           "showlakes": true,
           "showland": true,
           "subunitcolor": "white"
          },
          "hoverlabel": {
           "align": "left"
          },
          "hovermode": "closest",
          "mapbox": {
           "style": "light"
          },
          "paper_bgcolor": "white",
          "plot_bgcolor": "#E5ECF6",
          "polar": {
           "angularaxis": {
            "gridcolor": "white",
            "linecolor": "white",
            "ticks": ""
           },
           "bgcolor": "#E5ECF6",
           "radialaxis": {
            "gridcolor": "white",
            "linecolor": "white",
            "ticks": ""
           }
          },
          "scene": {
           "xaxis": {
            "backgroundcolor": "#E5ECF6",
            "gridcolor": "white",
            "gridwidth": 2,
            "linecolor": "white",
            "showbackground": true,
            "ticks": "",
            "zerolinecolor": "white"
           },
           "yaxis": {
            "backgroundcolor": "#E5ECF6",
            "gridcolor": "white",
            "gridwidth": 2,
            "linecolor": "white",
            "showbackground": true,
            "ticks": "",
            "zerolinecolor": "white"
           },
           "zaxis": {
            "backgroundcolor": "#E5ECF6",
            "gridcolor": "white",
            "gridwidth": 2,
            "linecolor": "white",
            "showbackground": true,
            "ticks": "",
            "zerolinecolor": "white"
           }
          },
          "shapedefaults": {
           "line": {
            "color": "#2a3f5f"
           }
          },
          "ternary": {
           "aaxis": {
            "gridcolor": "white",
            "linecolor": "white",
            "ticks": ""
           },
           "baxis": {
            "gridcolor": "white",
            "linecolor": "white",
            "ticks": ""
           },
           "bgcolor": "#E5ECF6",
           "caxis": {
            "gridcolor": "white",
            "linecolor": "white",
            "ticks": ""
           }
          },
          "title": {
           "x": 0.05
          },
          "xaxis": {
           "automargin": true,
           "gridcolor": "white",
           "linecolor": "white",
           "ticks": "",
           "title": {
            "standoff": 15
           },
           "zerolinecolor": "white",
           "zerolinewidth": 2
          },
          "yaxis": {
           "automargin": true,
           "gridcolor": "white",
           "linecolor": "white",
           "ticks": "",
           "title": {
            "standoff": 15
           },
           "zerolinecolor": "white",
           "zerolinewidth": 2
          }
         }
        },
        "title": {
         "text": "Três Variáveis Mais Importantes por Classe"
        },
        "xaxis": {
         "anchor": "y",
         "domain": [
          0,
          1
         ],
         "title": {
          "text": "Classe"
         }
        },
        "yaxis": {
         "anchor": "x",
         "domain": [
          0,
          1
         ],
         "title": {
          "text": "Variável"
         }
        }
       }
      },
      "text/html": [
       "<div>                            <div id=\"0e7038c7-8b2f-41e4-b43e-994afb54a0d5\" class=\"plotly-graph-div\" style=\"height:525px; width:100%;\"></div>            <script type=\"text/javascript\">                require([\"plotly\"], function(Plotly) {                    window.PLOTLYENV=window.PLOTLYENV || {};                                    if (document.getElementById(\"0e7038c7-8b2f-41e4-b43e-994afb54a0d5\")) {                    Plotly.newPlot(                        \"0e7038c7-8b2f-41e4-b43e-994afb54a0d5\",                        [{\"hovertemplate\":\"Classe=%{x}<br>Variável=%{y}<extra></extra>\",\"legendgroup\":\"\",\"marker\":{\"color\":\"#636efa\",\"symbol\":\"circle\"},\"mode\":\"markers\",\"name\":\"\",\"orientation\":\"v\",\"showlegend\":false,\"x\":[\"Caminhando\",\"Caminhando\",\"Caminhando\",\"Deitado\",\"Deitado\",\"Deitado\",\"Descendo Escadas\",\"Descendo Escadas\",\"Descendo Escadas\",\"Em Pé\",\"Em Pé\",\"Em Pé\",\"Sentado\",\"Sentado\",\"Sentado\",\"Subindo Escadas\",\"Subindo Escadas\",\"Subindo Escadas\"],\"xaxis\":\"x\",\"y\":[\"CP26\",\"CP1\",\"CP3\",\"CP5\",\"CP4\",\"CP3\",\"CP3\",\"CP1\",\"CP10\",\"CP39\",\"CP1\",\"CP5\",\"CP10\",\"CP1\",\"CP5\",\"CP10\",\"CP1\",\"CP3\"],\"yaxis\":\"y\",\"type\":\"scatter\"}],                        {\"template\":{\"data\":{\"histogram2dcontour\":[{\"type\":\"histogram2dcontour\",\"colorbar\":{\"outlinewidth\":0,\"ticks\":\"\"},\"colorscale\":[[0.0,\"#0d0887\"],[0.1111111111111111,\"#46039f\"],[0.2222222222222222,\"#7201a8\"],[0.3333333333333333,\"#9c179e\"],[0.4444444444444444,\"#bd3786\"],[0.5555555555555556,\"#d8576b\"],[0.6666666666666666,\"#ed7953\"],[0.7777777777777778,\"#fb9f3a\"],[0.8888888888888888,\"#fdca26\"],[1.0,\"#f0f921\"]]}],\"choropleth\":[{\"type\":\"choropleth\",\"colorbar\":{\"outlinewidth\":0,\"ticks\":\"\"}}],\"histogram2d\":[{\"type\":\"histogram2d\",\"colorbar\":{\"outlinewidth\":0,\"ticks\":\"\"},\"colorscale\":[[0.0,\"#0d0887\"],[0.1111111111111111,\"#46039f\"],[0.2222222222222222,\"#7201a8\"],[0.3333333333333333,\"#9c179e\"],[0.4444444444444444,\"#bd3786\"],[0.5555555555555556,\"#d8576b\"],[0.6666666666666666,\"#ed7953\"],[0.7777777777777778,\"#fb9f3a\"],[0.8888888888888888,\"#fdca26\"],[1.0,\"#f0f921\"]]}],\"heatmap\":[{\"type\":\"heatmap\",\"colorbar\":{\"outlinewidth\":0,\"ticks\":\"\"},\"colorscale\":[[0.0,\"#0d0887\"],[0.1111111111111111,\"#46039f\"],[0.2222222222222222,\"#7201a8\"],[0.3333333333333333,\"#9c179e\"],[0.4444444444444444,\"#bd3786\"],[0.5555555555555556,\"#d8576b\"],[0.6666666666666666,\"#ed7953\"],[0.7777777777777778,\"#fb9f3a\"],[0.8888888888888888,\"#fdca26\"],[1.0,\"#f0f921\"]]}],\"heatmapgl\":[{\"type\":\"heatmapgl\",\"colorbar\":{\"outlinewidth\":0,\"ticks\":\"\"},\"colorscale\":[[0.0,\"#0d0887\"],[0.1111111111111111,\"#46039f\"],[0.2222222222222222,\"#7201a8\"],[0.3333333333333333,\"#9c179e\"],[0.4444444444444444,\"#bd3786\"],[0.5555555555555556,\"#d8576b\"],[0.6666666666666666,\"#ed7953\"],[0.7777777777777778,\"#fb9f3a\"],[0.8888888888888888,\"#fdca26\"],[1.0,\"#f0f921\"]]}],\"contourcarpet\":[{\"type\":\"contourcarpet\",\"colorbar\":{\"outlinewidth\":0,\"ticks\":\"\"}}],\"contour\":[{\"type\":\"contour\",\"colorbar\":{\"outlinewidth\":0,\"ticks\":\"\"},\"colorscale\":[[0.0,\"#0d0887\"],[0.1111111111111111,\"#46039f\"],[0.2222222222222222,\"#7201a8\"],[0.3333333333333333,\"#9c179e\"],[0.4444444444444444,\"#bd3786\"],[0.5555555555555556,\"#d8576b\"],[0.6666666666666666,\"#ed7953\"],[0.7777777777777778,\"#fb9f3a\"],[0.8888888888888888,\"#fdca26\"],[1.0,\"#f0f921\"]]}],\"surface\":[{\"type\":\"surface\",\"colorbar\":{\"outlinewidth\":0,\"ticks\":\"\"},\"colorscale\":[[0.0,\"#0d0887\"],[0.1111111111111111,\"#46039f\"],[0.2222222222222222,\"#7201a8\"],[0.3333333333333333,\"#9c179e\"],[0.4444444444444444,\"#bd3786\"],[0.5555555555555556,\"#d8576b\"],[0.6666666666666666,\"#ed7953\"],[0.7777777777777778,\"#fb9f3a\"],[0.8888888888888888,\"#fdca26\"],[1.0,\"#f0f921\"]]}],\"mesh3d\":[{\"type\":\"mesh3d\",\"colorbar\":{\"outlinewidth\":0,\"ticks\":\"\"}}],\"scatter\":[{\"fillpattern\":{\"fillmode\":\"overlay\",\"size\":10,\"solidity\":0.2},\"type\":\"scatter\"}],\"parcoords\":[{\"type\":\"parcoords\",\"line\":{\"colorbar\":{\"outlinewidth\":0,\"ticks\":\"\"}}}],\"scatterpolargl\":[{\"type\":\"scatterpolargl\",\"marker\":{\"colorbar\":{\"outlinewidth\":0,\"ticks\":\"\"}}}],\"bar\":[{\"error_x\":{\"color\":\"#2a3f5f\"},\"error_y\":{\"color\":\"#2a3f5f\"},\"marker\":{\"line\":{\"color\":\"#E5ECF6\",\"width\":0.5},\"pattern\":{\"fillmode\":\"overlay\",\"size\":10,\"solidity\":0.2}},\"type\":\"bar\"}],\"scattergeo\":[{\"type\":\"scattergeo\",\"marker\":{\"colorbar\":{\"outlinewidth\":0,\"ticks\":\"\"}}}],\"scatterpolar\":[{\"type\":\"scatterpolar\",\"marker\":{\"colorbar\":{\"outlinewidth\":0,\"ticks\":\"\"}}}],\"histogram\":[{\"marker\":{\"pattern\":{\"fillmode\":\"overlay\",\"size\":10,\"solidity\":0.2}},\"type\":\"histogram\"}],\"scattergl\":[{\"type\":\"scattergl\",\"marker\":{\"colorbar\":{\"outlinewidth\":0,\"ticks\":\"\"}}}],\"scatter3d\":[{\"type\":\"scatter3d\",\"line\":{\"colorbar\":{\"outlinewidth\":0,\"ticks\":\"\"}},\"marker\":{\"colorbar\":{\"outlinewidth\":0,\"ticks\":\"\"}}}],\"scattermapbox\":[{\"type\":\"scattermapbox\",\"marker\":{\"colorbar\":{\"outlinewidth\":0,\"ticks\":\"\"}}}],\"scatterternary\":[{\"type\":\"scatterternary\",\"marker\":{\"colorbar\":{\"outlinewidth\":0,\"ticks\":\"\"}}}],\"scattercarpet\":[{\"type\":\"scattercarpet\",\"marker\":{\"colorbar\":{\"outlinewidth\":0,\"ticks\":\"\"}}}],\"carpet\":[{\"aaxis\":{\"endlinecolor\":\"#2a3f5f\",\"gridcolor\":\"white\",\"linecolor\":\"white\",\"minorgridcolor\":\"white\",\"startlinecolor\":\"#2a3f5f\"},\"baxis\":{\"endlinecolor\":\"#2a3f5f\",\"gridcolor\":\"white\",\"linecolor\":\"white\",\"minorgridcolor\":\"white\",\"startlinecolor\":\"#2a3f5f\"},\"type\":\"carpet\"}],\"table\":[{\"cells\":{\"fill\":{\"color\":\"#EBF0F8\"},\"line\":{\"color\":\"white\"}},\"header\":{\"fill\":{\"color\":\"#C8D4E3\"},\"line\":{\"color\":\"white\"}},\"type\":\"table\"}],\"barpolar\":[{\"marker\":{\"line\":{\"color\":\"#E5ECF6\",\"width\":0.5},\"pattern\":{\"fillmode\":\"overlay\",\"size\":10,\"solidity\":0.2}},\"type\":\"barpolar\"}],\"pie\":[{\"automargin\":true,\"type\":\"pie\"}]},\"layout\":{\"autotypenumbers\":\"strict\",\"colorway\":[\"#636efa\",\"#EF553B\",\"#00cc96\",\"#ab63fa\",\"#FFA15A\",\"#19d3f3\",\"#FF6692\",\"#B6E880\",\"#FF97FF\",\"#FECB52\"],\"font\":{\"color\":\"#2a3f5f\"},\"hovermode\":\"closest\",\"hoverlabel\":{\"align\":\"left\"},\"paper_bgcolor\":\"white\",\"plot_bgcolor\":\"#E5ECF6\",\"polar\":{\"bgcolor\":\"#E5ECF6\",\"angularaxis\":{\"gridcolor\":\"white\",\"linecolor\":\"white\",\"ticks\":\"\"},\"radialaxis\":{\"gridcolor\":\"white\",\"linecolor\":\"white\",\"ticks\":\"\"}},\"ternary\":{\"bgcolor\":\"#E5ECF6\",\"aaxis\":{\"gridcolor\":\"white\",\"linecolor\":\"white\",\"ticks\":\"\"},\"baxis\":{\"gridcolor\":\"white\",\"linecolor\":\"white\",\"ticks\":\"\"},\"caxis\":{\"gridcolor\":\"white\",\"linecolor\":\"white\",\"ticks\":\"\"}},\"coloraxis\":{\"colorbar\":{\"outlinewidth\":0,\"ticks\":\"\"}},\"colorscale\":{\"sequential\":[[0.0,\"#0d0887\"],[0.1111111111111111,\"#46039f\"],[0.2222222222222222,\"#7201a8\"],[0.3333333333333333,\"#9c179e\"],[0.4444444444444444,\"#bd3786\"],[0.5555555555555556,\"#d8576b\"],[0.6666666666666666,\"#ed7953\"],[0.7777777777777778,\"#fb9f3a\"],[0.8888888888888888,\"#fdca26\"],[1.0,\"#f0f921\"]],\"sequentialminus\":[[0.0,\"#0d0887\"],[0.1111111111111111,\"#46039f\"],[0.2222222222222222,\"#7201a8\"],[0.3333333333333333,\"#9c179e\"],[0.4444444444444444,\"#bd3786\"],[0.5555555555555556,\"#d8576b\"],[0.6666666666666666,\"#ed7953\"],[0.7777777777777778,\"#fb9f3a\"],[0.8888888888888888,\"#fdca26\"],[1.0,\"#f0f921\"]],\"diverging\":[[0,\"#8e0152\"],[0.1,\"#c51b7d\"],[0.2,\"#de77ae\"],[0.3,\"#f1b6da\"],[0.4,\"#fde0ef\"],[0.5,\"#f7f7f7\"],[0.6,\"#e6f5d0\"],[0.7,\"#b8e186\"],[0.8,\"#7fbc41\"],[0.9,\"#4d9221\"],[1,\"#276419\"]]},\"xaxis\":{\"gridcolor\":\"white\",\"linecolor\":\"white\",\"ticks\":\"\",\"title\":{\"standoff\":15},\"zerolinecolor\":\"white\",\"automargin\":true,\"zerolinewidth\":2},\"yaxis\":{\"gridcolor\":\"white\",\"linecolor\":\"white\",\"ticks\":\"\",\"title\":{\"standoff\":15},\"zerolinecolor\":\"white\",\"automargin\":true,\"zerolinewidth\":2},\"scene\":{\"xaxis\":{\"backgroundcolor\":\"#E5ECF6\",\"gridcolor\":\"white\",\"linecolor\":\"white\",\"showbackground\":true,\"ticks\":\"\",\"zerolinecolor\":\"white\",\"gridwidth\":2},\"yaxis\":{\"backgroundcolor\":\"#E5ECF6\",\"gridcolor\":\"white\",\"linecolor\":\"white\",\"showbackground\":true,\"ticks\":\"\",\"zerolinecolor\":\"white\",\"gridwidth\":2},\"zaxis\":{\"backgroundcolor\":\"#E5ECF6\",\"gridcolor\":\"white\",\"linecolor\":\"white\",\"showbackground\":true,\"ticks\":\"\",\"zerolinecolor\":\"white\",\"gridwidth\":2}},\"shapedefaults\":{\"line\":{\"color\":\"#2a3f5f\"}},\"annotationdefaults\":{\"arrowcolor\":\"#2a3f5f\",\"arrowhead\":0,\"arrowwidth\":1},\"geo\":{\"bgcolor\":\"white\",\"landcolor\":\"#E5ECF6\",\"subunitcolor\":\"white\",\"showland\":true,\"showlakes\":true,\"lakecolor\":\"white\"},\"title\":{\"x\":0.05},\"mapbox\":{\"style\":\"light\"}}},\"xaxis\":{\"anchor\":\"y\",\"domain\":[0.0,1.0],\"title\":{\"text\":\"Classe\"}},\"yaxis\":{\"anchor\":\"x\",\"domain\":[0.0,1.0],\"title\":{\"text\":\"Variável\"}},\"legend\":{\"tracegroupgap\":0},\"title\":{\"text\":\"Três Variáveis Mais Importantes por Classe\"}},                        {\"responsive\": true}                    ).then(function(){\n",
       "                            \n",
       "var gd = document.getElementById('0e7038c7-8b2f-41e4-b43e-994afb54a0d5');\n",
       "var x = new MutationObserver(function (mutations, observer) {{\n",
       "        var display = window.getComputedStyle(gd).display;\n",
       "        if (!display || display === 'none') {{\n",
       "            console.log([gd, 'removed!']);\n",
       "            Plotly.purge(gd);\n",
       "            observer.disconnect();\n",
       "        }}\n",
       "}});\n",
       "\n",
       "// Listen for the removal of the full notebook cells\n",
       "var notebookContainer = gd.closest('#notebook-container');\n",
       "if (notebookContainer) {{\n",
       "    x.observe(notebookContainer, {childList: true});\n",
       "}}\n",
       "\n",
       "// Listen for the clearing of the current output cell\n",
       "var outputEl = gd.closest('.output');\n",
       "if (outputEl) {{\n",
       "    x.observe(outputEl, {childList: true});\n",
       "}}\n",
       "\n",
       "                        })                };                });            </script>        </div>"
      ]
     },
     "metadata": {},
     "output_type": "display_data"
    }
   ],
   "source": [
    "# Criando uma instância do LDA\n",
    "lda = LDA()\n",
    "\n",
    "# Mapeando y_train para as labels de string\n",
    "dict_classes = {1: 'Caminhando', 2: 'Subindo Escadas', 3: 'Descendo Escadas', 4: 'Sentado', 5: 'Em Pé', 6: 'Deitado'}\n",
    "classes_str = y_train['cod_label'].map(dict_classes)\n",
    "\n",
    "# Selecionando apenas as primeiras 62 componentes principais\n",
    "CP_pad_62 = CP_pad.iloc[:, :62]\n",
    "\n",
    "# Ajustando o modelo LDA\n",
    "lda.fit(CP_pad_62, classes_str)\n",
    "\n",
    "# Obtendo as três variáveis mais importantes para cada classe\n",
    "top_vars = {}\n",
    "for i, class_name in enumerate(lda.classes_):\n",
    "    top_vars[class_name] = np.argsort(np.abs(lda.coef_[i]))[-3:]\n",
    "\n",
    "# Criando um DataFrame com os dados\n",
    "data = []\n",
    "for class_name, vars in top_vars.items():\n",
    "    for var in vars:\n",
    "        data.append({\n",
    "            'Classe': class_name,\n",
    "            'Variável': 'CP'+str(var+1),\n",
    "        })\n",
    "df_top_vars = pd.DataFrame(data)\n",
    "\n",
    "# Criando o gráfico de barras\n",
    "fig = px.scatter(df_top_vars, x='Classe', y='Variável', title='Três Variáveis Mais Importantes por Classe')\n",
    "\n",
    "# Mostrando o gráfico\n",
    "fig.show()"
   ]
  },
  {
   "cell_type": "markdown",
   "metadata": {},
   "source": [
    "- Vemos que as mais importantes componenetes para explicar todas as classes são apenas 8, e que diferem bem entre si, demonstrando um diferenciação boa entre as classes."
   ]
  },
  {
   "cell_type": "markdown",
   "metadata": {},
   "source": [
    "<a id='planejamento-modelo'></a>\n",
    "# 6. Planejamento do Modelo"
   ]
  },
  {
   "cell_type": "markdown",
   "metadata": {},
   "source": [
    "Como observamos se trata de um problema de **classificação multiclasse** e de longa dimensão de variáveis explicativas, vamos avaliar a aplicação de algoritmos para bases padronizadas e não padronizadas."
   ]
  },
  {
   "cell_type": "markdown",
   "metadata": {},
   "source": [
    "<a id='setup'></a>\n",
    "## 6.1 Setup"
   ]
  },
  {
   "cell_type": "markdown",
   "metadata": {},
   "source": [
    "O setup do módulo `Pycaret` cria um ambiente que ajuda na criaçaõ de modeos, vamos usá-lo apra comparar algoritmos."
   ]
  },
  {
   "cell_type": "code",
   "execution_count": 76,
   "metadata": {},
   "outputs": [],
   "source": [
    "# Adicionando as labels nos dfs\n",
    "CP = CP.assign(label=y_train)\n",
    "CP_pad = CP_pad.assign(label=y_train)"
   ]
  },
  {
   "cell_type": "code",
   "execution_count": 81,
   "metadata": {},
   "outputs": [],
   "source": [
    "# Selecionando apenas as primeiras 62 colunas\n",
    "CP_pad_62 = CP_pad.iloc[:, :62]\n",
    "\n",
    "# Adicionando a coluna 'label'\n",
    "CP_pad_62 = CP_pad_62.assign(label=y_train)"
   ]
  },
  {
   "cell_type": "code",
   "execution_count": 82,
   "metadata": {},
   "outputs": [
    {
     "data": {
      "text/html": [
       "<style type=\"text/css\">\n",
       "#T_1291c_row9_col1 {\n",
       "  background-color: lightgreen;\n",
       "}\n",
       "</style>\n",
       "<table id=\"T_1291c\">\n",
       "  <thead>\n",
       "    <tr>\n",
       "      <th class=\"blank level0\" >&nbsp;</th>\n",
       "      <th id=\"T_1291c_level0_col0\" class=\"col_heading level0 col0\" >Description</th>\n",
       "      <th id=\"T_1291c_level0_col1\" class=\"col_heading level0 col1\" >Value</th>\n",
       "    </tr>\n",
       "  </thead>\n",
       "  <tbody>\n",
       "    <tr>\n",
       "      <th id=\"T_1291c_level0_row0\" class=\"row_heading level0 row0\" >0</th>\n",
       "      <td id=\"T_1291c_row0_col0\" class=\"data row0 col0\" >Session id</td>\n",
       "      <td id=\"T_1291c_row0_col1\" class=\"data row0 col1\" >484</td>\n",
       "    </tr>\n",
       "    <tr>\n",
       "      <th id=\"T_1291c_level0_row1\" class=\"row_heading level0 row1\" >1</th>\n",
       "      <td id=\"T_1291c_row1_col0\" class=\"data row1 col0\" >Target</td>\n",
       "      <td id=\"T_1291c_row1_col1\" class=\"data row1 col1\" >label</td>\n",
       "    </tr>\n",
       "    <tr>\n",
       "      <th id=\"T_1291c_level0_row2\" class=\"row_heading level0 row2\" >2</th>\n",
       "      <td id=\"T_1291c_row2_col0\" class=\"data row2 col0\" >Target type</td>\n",
       "      <td id=\"T_1291c_row2_col1\" class=\"data row2 col1\" >Multiclass</td>\n",
       "    </tr>\n",
       "    <tr>\n",
       "      <th id=\"T_1291c_level0_row3\" class=\"row_heading level0 row3\" >3</th>\n",
       "      <td id=\"T_1291c_row3_col0\" class=\"data row3 col0\" >Target mapping</td>\n",
       "      <td id=\"T_1291c_row3_col1\" class=\"data row3 col1\" >1: 0, 2: 1, 3: 2, 4: 3, 5: 4, 6: 5</td>\n",
       "    </tr>\n",
       "    <tr>\n",
       "      <th id=\"T_1291c_level0_row4\" class=\"row_heading level0 row4\" >4</th>\n",
       "      <td id=\"T_1291c_row4_col0\" class=\"data row4 col0\" >Original data shape</td>\n",
       "      <td id=\"T_1291c_row4_col1\" class=\"data row4 col1\" >(7352, 63)</td>\n",
       "    </tr>\n",
       "    <tr>\n",
       "      <th id=\"T_1291c_level0_row5\" class=\"row_heading level0 row5\" >5</th>\n",
       "      <td id=\"T_1291c_row5_col0\" class=\"data row5 col0\" >Transformed data shape</td>\n",
       "      <td id=\"T_1291c_row5_col1\" class=\"data row5 col1\" >(7352, 63)</td>\n",
       "    </tr>\n",
       "    <tr>\n",
       "      <th id=\"T_1291c_level0_row6\" class=\"row_heading level0 row6\" >6</th>\n",
       "      <td id=\"T_1291c_row6_col0\" class=\"data row6 col0\" >Transformed train set shape</td>\n",
       "      <td id=\"T_1291c_row6_col1\" class=\"data row6 col1\" >(5146, 63)</td>\n",
       "    </tr>\n",
       "    <tr>\n",
       "      <th id=\"T_1291c_level0_row7\" class=\"row_heading level0 row7\" >7</th>\n",
       "      <td id=\"T_1291c_row7_col0\" class=\"data row7 col0\" >Transformed test set shape</td>\n",
       "      <td id=\"T_1291c_row7_col1\" class=\"data row7 col1\" >(2206, 63)</td>\n",
       "    </tr>\n",
       "    <tr>\n",
       "      <th id=\"T_1291c_level0_row8\" class=\"row_heading level0 row8\" >8</th>\n",
       "      <td id=\"T_1291c_row8_col0\" class=\"data row8 col0\" >Numeric features</td>\n",
       "      <td id=\"T_1291c_row8_col1\" class=\"data row8 col1\" >62</td>\n",
       "    </tr>\n",
       "    <tr>\n",
       "      <th id=\"T_1291c_level0_row9\" class=\"row_heading level0 row9\" >9</th>\n",
       "      <td id=\"T_1291c_row9_col0\" class=\"data row9 col0\" >Preprocess</td>\n",
       "      <td id=\"T_1291c_row9_col1\" class=\"data row9 col1\" >True</td>\n",
       "    </tr>\n",
       "    <tr>\n",
       "      <th id=\"T_1291c_level0_row10\" class=\"row_heading level0 row10\" >10</th>\n",
       "      <td id=\"T_1291c_row10_col0\" class=\"data row10 col0\" >Imputation type</td>\n",
       "      <td id=\"T_1291c_row10_col1\" class=\"data row10 col1\" >simple</td>\n",
       "    </tr>\n",
       "    <tr>\n",
       "      <th id=\"T_1291c_level0_row11\" class=\"row_heading level0 row11\" >11</th>\n",
       "      <td id=\"T_1291c_row11_col0\" class=\"data row11 col0\" >Numeric imputation</td>\n",
       "      <td id=\"T_1291c_row11_col1\" class=\"data row11 col1\" >mean</td>\n",
       "    </tr>\n",
       "    <tr>\n",
       "      <th id=\"T_1291c_level0_row12\" class=\"row_heading level0 row12\" >12</th>\n",
       "      <td id=\"T_1291c_row12_col0\" class=\"data row12 col0\" >Categorical imputation</td>\n",
       "      <td id=\"T_1291c_row12_col1\" class=\"data row12 col1\" >mode</td>\n",
       "    </tr>\n",
       "    <tr>\n",
       "      <th id=\"T_1291c_level0_row13\" class=\"row_heading level0 row13\" >13</th>\n",
       "      <td id=\"T_1291c_row13_col0\" class=\"data row13 col0\" >Fold Generator</td>\n",
       "      <td id=\"T_1291c_row13_col1\" class=\"data row13 col1\" >StratifiedKFold</td>\n",
       "    </tr>\n",
       "    <tr>\n",
       "      <th id=\"T_1291c_level0_row14\" class=\"row_heading level0 row14\" >14</th>\n",
       "      <td id=\"T_1291c_row14_col0\" class=\"data row14 col0\" >Fold Number</td>\n",
       "      <td id=\"T_1291c_row14_col1\" class=\"data row14 col1\" >10</td>\n",
       "    </tr>\n",
       "    <tr>\n",
       "      <th id=\"T_1291c_level0_row15\" class=\"row_heading level0 row15\" >15</th>\n",
       "      <td id=\"T_1291c_row15_col0\" class=\"data row15 col0\" >CPU Jobs</td>\n",
       "      <td id=\"T_1291c_row15_col1\" class=\"data row15 col1\" >-1</td>\n",
       "    </tr>\n",
       "    <tr>\n",
       "      <th id=\"T_1291c_level0_row16\" class=\"row_heading level0 row16\" >16</th>\n",
       "      <td id=\"T_1291c_row16_col0\" class=\"data row16 col0\" >Use GPU</td>\n",
       "      <td id=\"T_1291c_row16_col1\" class=\"data row16 col1\" >False</td>\n",
       "    </tr>\n",
       "    <tr>\n",
       "      <th id=\"T_1291c_level0_row17\" class=\"row_heading level0 row17\" >17</th>\n",
       "      <td id=\"T_1291c_row17_col0\" class=\"data row17 col0\" >Log Experiment</td>\n",
       "      <td id=\"T_1291c_row17_col1\" class=\"data row17 col1\" >False</td>\n",
       "    </tr>\n",
       "    <tr>\n",
       "      <th id=\"T_1291c_level0_row18\" class=\"row_heading level0 row18\" >18</th>\n",
       "      <td id=\"T_1291c_row18_col0\" class=\"data row18 col0\" >Experiment Name</td>\n",
       "      <td id=\"T_1291c_row18_col1\" class=\"data row18 col1\" >clf-default-name</td>\n",
       "    </tr>\n",
       "    <tr>\n",
       "      <th id=\"T_1291c_level0_row19\" class=\"row_heading level0 row19\" >19</th>\n",
       "      <td id=\"T_1291c_row19_col0\" class=\"data row19 col0\" >USI</td>\n",
       "      <td id=\"T_1291c_row19_col1\" class=\"data row19 col1\" >8cc6</td>\n",
       "    </tr>\n",
       "  </tbody>\n",
       "</table>\n"
      ],
      "text/plain": [
       "<pandas.io.formats.style.Styler at 0x263d3682ef0>"
      ]
     },
     "metadata": {},
     "output_type": "display_data"
    },
    {
     "data": {
      "text/plain": [
       "<pycaret.classification.oop.ClassificationExperiment at 0x263bb851870>"
      ]
     },
     "execution_count": 82,
     "metadata": {},
     "output_type": "execute_result"
    }
   ],
   "source": [
    "# Inicializando o setup\n",
    "setup(data = CP_pad_62, target = 'label')"
   ]
  },
  {
   "cell_type": "markdown",
   "metadata": {},
   "source": [
    "<a id='compare_models'></a>\n",
    "## 6.2 compare_models"
   ]
  },
  {
   "cell_type": "code",
   "execution_count": 83,
   "metadata": {},
   "outputs": [
    {
     "data": {
      "text/html": [],
      "text/plain": [
       "<IPython.core.display.HTML object>"
      ]
     },
     "metadata": {},
     "output_type": "display_data"
    },
    {
     "data": {
      "text/html": [
       "<style type=\"text/css\">\n",
       "#T_dc99b th {\n",
       "  text-align: left;\n",
       "}\n",
       "#T_dc99b_row0_col0, #T_dc99b_row1_col0, #T_dc99b_row1_col1, #T_dc99b_row1_col2, #T_dc99b_row1_col3, #T_dc99b_row1_col4, #T_dc99b_row1_col5, #T_dc99b_row1_col6, #T_dc99b_row1_col7, #T_dc99b_row2_col0, #T_dc99b_row2_col1, #T_dc99b_row2_col2, #T_dc99b_row2_col3, #T_dc99b_row2_col4, #T_dc99b_row2_col5, #T_dc99b_row2_col6, #T_dc99b_row2_col7, #T_dc99b_row3_col0, #T_dc99b_row3_col1, #T_dc99b_row3_col2, #T_dc99b_row3_col3, #T_dc99b_row3_col4, #T_dc99b_row3_col5, #T_dc99b_row3_col6, #T_dc99b_row3_col7, #T_dc99b_row4_col0, #T_dc99b_row4_col1, #T_dc99b_row4_col2, #T_dc99b_row4_col3, #T_dc99b_row4_col4, #T_dc99b_row4_col5, #T_dc99b_row4_col6, #T_dc99b_row4_col7, #T_dc99b_row5_col0, #T_dc99b_row5_col1, #T_dc99b_row5_col2, #T_dc99b_row5_col3, #T_dc99b_row5_col4, #T_dc99b_row5_col5, #T_dc99b_row5_col6, #T_dc99b_row5_col7, #T_dc99b_row6_col0, #T_dc99b_row6_col1, #T_dc99b_row6_col2, #T_dc99b_row6_col3, #T_dc99b_row6_col4, #T_dc99b_row6_col5, #T_dc99b_row6_col6, #T_dc99b_row6_col7, #T_dc99b_row7_col0, #T_dc99b_row7_col1, #T_dc99b_row7_col2, #T_dc99b_row7_col3, #T_dc99b_row7_col4, #T_dc99b_row7_col5, #T_dc99b_row7_col6, #T_dc99b_row7_col7, #T_dc99b_row8_col0, #T_dc99b_row8_col1, #T_dc99b_row8_col2, #T_dc99b_row8_col3, #T_dc99b_row8_col4, #T_dc99b_row8_col5, #T_dc99b_row8_col6, #T_dc99b_row8_col7, #T_dc99b_row9_col0, #T_dc99b_row9_col1, #T_dc99b_row9_col2, #T_dc99b_row9_col3, #T_dc99b_row9_col4, #T_dc99b_row9_col5, #T_dc99b_row9_col6, #T_dc99b_row9_col7, #T_dc99b_row10_col0, #T_dc99b_row10_col1, #T_dc99b_row10_col2, #T_dc99b_row10_col3, #T_dc99b_row10_col4, #T_dc99b_row10_col5, #T_dc99b_row10_col6, #T_dc99b_row10_col7, #T_dc99b_row11_col0, #T_dc99b_row11_col1, #T_dc99b_row11_col2, #T_dc99b_row11_col3, #T_dc99b_row11_col4, #T_dc99b_row11_col5, #T_dc99b_row11_col6, #T_dc99b_row11_col7, #T_dc99b_row12_col0, #T_dc99b_row12_col1, #T_dc99b_row12_col2, #T_dc99b_row12_col3, #T_dc99b_row12_col4, #T_dc99b_row12_col5, #T_dc99b_row12_col6, #T_dc99b_row12_col7, #T_dc99b_row13_col0, #T_dc99b_row13_col1, #T_dc99b_row13_col2, #T_dc99b_row13_col3, #T_dc99b_row13_col4, #T_dc99b_row13_col5, #T_dc99b_row13_col6, #T_dc99b_row13_col7, #T_dc99b_row14_col0, #T_dc99b_row14_col1, #T_dc99b_row14_col2, #T_dc99b_row14_col3, #T_dc99b_row14_col4, #T_dc99b_row14_col5, #T_dc99b_row14_col6, #T_dc99b_row14_col7 {\n",
       "  text-align: left;\n",
       "}\n",
       "#T_dc99b_row0_col1, #T_dc99b_row0_col2, #T_dc99b_row0_col3, #T_dc99b_row0_col4, #T_dc99b_row0_col5, #T_dc99b_row0_col6, #T_dc99b_row0_col7 {\n",
       "  text-align: left;\n",
       "  background-color: yellow;\n",
       "}\n",
       "#T_dc99b_row0_col8, #T_dc99b_row1_col8, #T_dc99b_row2_col8, #T_dc99b_row3_col8, #T_dc99b_row4_col8, #T_dc99b_row5_col8, #T_dc99b_row6_col8, #T_dc99b_row7_col8, #T_dc99b_row8_col8, #T_dc99b_row9_col8, #T_dc99b_row10_col8, #T_dc99b_row12_col8, #T_dc99b_row13_col8, #T_dc99b_row14_col8 {\n",
       "  text-align: left;\n",
       "  background-color: lightgrey;\n",
       "}\n",
       "#T_dc99b_row11_col8 {\n",
       "  text-align: left;\n",
       "  background-color: yellow;\n",
       "  background-color: lightgrey;\n",
       "}\n",
       "</style>\n",
       "<table id=\"T_dc99b\">\n",
       "  <thead>\n",
       "    <tr>\n",
       "      <th class=\"blank level0\" >&nbsp;</th>\n",
       "      <th id=\"T_dc99b_level0_col0\" class=\"col_heading level0 col0\" >Model</th>\n",
       "      <th id=\"T_dc99b_level0_col1\" class=\"col_heading level0 col1\" >Accuracy</th>\n",
       "      <th id=\"T_dc99b_level0_col2\" class=\"col_heading level0 col2\" >AUC</th>\n",
       "      <th id=\"T_dc99b_level0_col3\" class=\"col_heading level0 col3\" >Recall</th>\n",
       "      <th id=\"T_dc99b_level0_col4\" class=\"col_heading level0 col4\" >Prec.</th>\n",
       "      <th id=\"T_dc99b_level0_col5\" class=\"col_heading level0 col5\" >F1</th>\n",
       "      <th id=\"T_dc99b_level0_col6\" class=\"col_heading level0 col6\" >Kappa</th>\n",
       "      <th id=\"T_dc99b_level0_col7\" class=\"col_heading level0 col7\" >MCC</th>\n",
       "      <th id=\"T_dc99b_level0_col8\" class=\"col_heading level0 col8\" >TT (Sec)</th>\n",
       "    </tr>\n",
       "  </thead>\n",
       "  <tbody>\n",
       "    <tr>\n",
       "      <th id=\"T_dc99b_level0_row0\" class=\"row_heading level0 row0\" >lr</th>\n",
       "      <td id=\"T_dc99b_row0_col0\" class=\"data row0 col0\" >Logistic Regression</td>\n",
       "      <td id=\"T_dc99b_row0_col1\" class=\"data row0 col1\" >0.9555</td>\n",
       "      <td id=\"T_dc99b_row0_col2\" class=\"data row0 col2\" >0.9968</td>\n",
       "      <td id=\"T_dc99b_row0_col3\" class=\"data row0 col3\" >0.9555</td>\n",
       "      <td id=\"T_dc99b_row0_col4\" class=\"data row0 col4\" >0.9559</td>\n",
       "      <td id=\"T_dc99b_row0_col5\" class=\"data row0 col5\" >0.9555</td>\n",
       "      <td id=\"T_dc99b_row0_col6\" class=\"data row0 col6\" >0.9464</td>\n",
       "      <td id=\"T_dc99b_row0_col7\" class=\"data row0 col7\" >0.9465</td>\n",
       "      <td id=\"T_dc99b_row0_col8\" class=\"data row0 col8\" >11.3850</td>\n",
       "    </tr>\n",
       "    <tr>\n",
       "      <th id=\"T_dc99b_level0_row1\" class=\"row_heading level0 row1\" >qda</th>\n",
       "      <td id=\"T_dc99b_row1_col0\" class=\"data row1 col0\" >Quadratic Discriminant Analysis</td>\n",
       "      <td id=\"T_dc99b_row1_col1\" class=\"data row1 col1\" >0.9437</td>\n",
       "      <td id=\"T_dc99b_row1_col2\" class=\"data row1 col2\" >0.9951</td>\n",
       "      <td id=\"T_dc99b_row1_col3\" class=\"data row1 col3\" >0.9437</td>\n",
       "      <td id=\"T_dc99b_row1_col4\" class=\"data row1 col4\" >0.9468</td>\n",
       "      <td id=\"T_dc99b_row1_col5\" class=\"data row1 col5\" >0.9431</td>\n",
       "      <td id=\"T_dc99b_row1_col6\" class=\"data row1 col6\" >0.9322</td>\n",
       "      <td id=\"T_dc99b_row1_col7\" class=\"data row1 col7\" >0.9331</td>\n",
       "      <td id=\"T_dc99b_row1_col8\" class=\"data row1 col8\" >7.0110</td>\n",
       "    </tr>\n",
       "    <tr>\n",
       "      <th id=\"T_dc99b_level0_row2\" class=\"row_heading level0 row2\" >svm</th>\n",
       "      <td id=\"T_dc99b_row2_col0\" class=\"data row2 col0\" >SVM - Linear Kernel</td>\n",
       "      <td id=\"T_dc99b_row2_col1\" class=\"data row2 col1\" >0.9433</td>\n",
       "      <td id=\"T_dc99b_row2_col2\" class=\"data row2 col2\" >0.0000</td>\n",
       "      <td id=\"T_dc99b_row2_col3\" class=\"data row2 col3\" >0.9433</td>\n",
       "      <td id=\"T_dc99b_row2_col4\" class=\"data row2 col4\" >0.9452</td>\n",
       "      <td id=\"T_dc99b_row2_col5\" class=\"data row2 col5\" >0.9432</td>\n",
       "      <td id=\"T_dc99b_row2_col6\" class=\"data row2 col6\" >0.9317</td>\n",
       "      <td id=\"T_dc99b_row2_col7\" class=\"data row2 col7\" >0.9322</td>\n",
       "      <td id=\"T_dc99b_row2_col8\" class=\"data row2 col8\" >7.5750</td>\n",
       "    </tr>\n",
       "    <tr>\n",
       "      <th id=\"T_dc99b_level0_row3\" class=\"row_heading level0 row3\" >lightgbm</th>\n",
       "      <td id=\"T_dc99b_row3_col0\" class=\"data row3 col0\" >Light Gradient Boosting Machine</td>\n",
       "      <td id=\"T_dc99b_row3_col1\" class=\"data row3 col1\" >0.9431</td>\n",
       "      <td id=\"T_dc99b_row3_col2\" class=\"data row3 col2\" >0.9962</td>\n",
       "      <td id=\"T_dc99b_row3_col3\" class=\"data row3 col3\" >0.9431</td>\n",
       "      <td id=\"T_dc99b_row3_col4\" class=\"data row3 col4\" >0.9437</td>\n",
       "      <td id=\"T_dc99b_row3_col5\" class=\"data row3 col5\" >0.9430</td>\n",
       "      <td id=\"T_dc99b_row3_col6\" class=\"data row3 col6\" >0.9315</td>\n",
       "      <td id=\"T_dc99b_row3_col7\" class=\"data row3 col7\" >0.9316</td>\n",
       "      <td id=\"T_dc99b_row3_col8\" class=\"data row3 col8\" >10.2500</td>\n",
       "    </tr>\n",
       "    <tr>\n",
       "      <th id=\"T_dc99b_level0_row4\" class=\"row_heading level0 row4\" >xgboost</th>\n",
       "      <td id=\"T_dc99b_row4_col0\" class=\"data row4 col0\" >Extreme Gradient Boosting</td>\n",
       "      <td id=\"T_dc99b_row4_col1\" class=\"data row4 col1\" >0.9396</td>\n",
       "      <td id=\"T_dc99b_row4_col2\" class=\"data row4 col2\" >0.9960</td>\n",
       "      <td id=\"T_dc99b_row4_col3\" class=\"data row4 col3\" >0.9396</td>\n",
       "      <td id=\"T_dc99b_row4_col4\" class=\"data row4 col4\" >0.9401</td>\n",
       "      <td id=\"T_dc99b_row4_col5\" class=\"data row4 col5\" >0.9394</td>\n",
       "      <td id=\"T_dc99b_row4_col6\" class=\"data row4 col6\" >0.9272</td>\n",
       "      <td id=\"T_dc99b_row4_col7\" class=\"data row4 col7\" >0.9275</td>\n",
       "      <td id=\"T_dc99b_row4_col8\" class=\"data row4 col8\" >9.6120</td>\n",
       "    </tr>\n",
       "    <tr>\n",
       "      <th id=\"T_dc99b_level0_row5\" class=\"row_heading level0 row5\" >knn</th>\n",
       "      <td id=\"T_dc99b_row5_col0\" class=\"data row5 col0\" >K Neighbors Classifier</td>\n",
       "      <td id=\"T_dc99b_row5_col1\" class=\"data row5 col1\" >0.9368</td>\n",
       "      <td id=\"T_dc99b_row5_col2\" class=\"data row5 col2\" >0.9926</td>\n",
       "      <td id=\"T_dc99b_row5_col3\" class=\"data row5 col3\" >0.9368</td>\n",
       "      <td id=\"T_dc99b_row5_col4\" class=\"data row5 col4\" >0.9385</td>\n",
       "      <td id=\"T_dc99b_row5_col5\" class=\"data row5 col5\" >0.9366</td>\n",
       "      <td id=\"T_dc99b_row5_col6\" class=\"data row5 col6\" >0.9240</td>\n",
       "      <td id=\"T_dc99b_row5_col7\" class=\"data row5 col7\" >0.9244</td>\n",
       "      <td id=\"T_dc99b_row5_col8\" class=\"data row5 col8\" >9.1090</td>\n",
       "    </tr>\n",
       "    <tr>\n",
       "      <th id=\"T_dc99b_level0_row6\" class=\"row_heading level0 row6\" >et</th>\n",
       "      <td id=\"T_dc99b_row6_col0\" class=\"data row6 col0\" >Extra Trees Classifier</td>\n",
       "      <td id=\"T_dc99b_row6_col1\" class=\"data row6 col1\" >0.9312</td>\n",
       "      <td id=\"T_dc99b_row6_col2\" class=\"data row6 col2\" >0.9940</td>\n",
       "      <td id=\"T_dc99b_row6_col3\" class=\"data row6 col3\" >0.9312</td>\n",
       "      <td id=\"T_dc99b_row6_col4\" class=\"data row6 col4\" >0.9325</td>\n",
       "      <td id=\"T_dc99b_row6_col5\" class=\"data row6 col5\" >0.9308</td>\n",
       "      <td id=\"T_dc99b_row6_col6\" class=\"data row6 col6\" >0.9172</td>\n",
       "      <td id=\"T_dc99b_row6_col7\" class=\"data row6 col7\" >0.9176</td>\n",
       "      <td id=\"T_dc99b_row6_col8\" class=\"data row6 col8\" >7.4400</td>\n",
       "    </tr>\n",
       "    <tr>\n",
       "      <th id=\"T_dc99b_level0_row7\" class=\"row_heading level0 row7\" >gbc</th>\n",
       "      <td id=\"T_dc99b_row7_col0\" class=\"data row7 col0\" >Gradient Boosting Classifier</td>\n",
       "      <td id=\"T_dc99b_row7_col1\" class=\"data row7 col1\" >0.9250</td>\n",
       "      <td id=\"T_dc99b_row7_col2\" class=\"data row7 col2\" >0.9947</td>\n",
       "      <td id=\"T_dc99b_row7_col3\" class=\"data row7 col3\" >0.9250</td>\n",
       "      <td id=\"T_dc99b_row7_col4\" class=\"data row7 col4\" >0.9261</td>\n",
       "      <td id=\"T_dc99b_row7_col5\" class=\"data row7 col5\" >0.9249</td>\n",
       "      <td id=\"T_dc99b_row7_col6\" class=\"data row7 col6\" >0.9097</td>\n",
       "      <td id=\"T_dc99b_row7_col7\" class=\"data row7 col7\" >0.9100</td>\n",
       "      <td id=\"T_dc99b_row7_col8\" class=\"data row7 col8\" >37.3440</td>\n",
       "    </tr>\n",
       "    <tr>\n",
       "      <th id=\"T_dc99b_level0_row8\" class=\"row_heading level0 row8\" >lda</th>\n",
       "      <td id=\"T_dc99b_row8_col0\" class=\"data row8 col0\" >Linear Discriminant Analysis</td>\n",
       "      <td id=\"T_dc99b_row8_col1\" class=\"data row8 col1\" >0.9217</td>\n",
       "      <td id=\"T_dc99b_row8_col2\" class=\"data row8 col2\" >0.9926</td>\n",
       "      <td id=\"T_dc99b_row8_col3\" class=\"data row8 col3\" >0.9217</td>\n",
       "      <td id=\"T_dc99b_row8_col4\" class=\"data row8 col4\" >0.9235</td>\n",
       "      <td id=\"T_dc99b_row8_col5\" class=\"data row8 col5\" >0.9210</td>\n",
       "      <td id=\"T_dc99b_row8_col6\" class=\"data row8 col6\" >0.9057</td>\n",
       "      <td id=\"T_dc99b_row8_col7\" class=\"data row8 col7\" >0.9064</td>\n",
       "      <td id=\"T_dc99b_row8_col8\" class=\"data row8 col8\" >6.8880</td>\n",
       "    </tr>\n",
       "    <tr>\n",
       "      <th id=\"T_dc99b_level0_row9\" class=\"row_heading level0 row9\" >rf</th>\n",
       "      <td id=\"T_dc99b_row9_col0\" class=\"data row9 col0\" >Random Forest Classifier</td>\n",
       "      <td id=\"T_dc99b_row9_col1\" class=\"data row9 col1\" >0.9180</td>\n",
       "      <td id=\"T_dc99b_row9_col2\" class=\"data row9 col2\" >0.9938</td>\n",
       "      <td id=\"T_dc99b_row9_col3\" class=\"data row9 col3\" >0.9180</td>\n",
       "      <td id=\"T_dc99b_row9_col4\" class=\"data row9 col4\" >0.9188</td>\n",
       "      <td id=\"T_dc99b_row9_col5\" class=\"data row9 col5\" >0.9174</td>\n",
       "      <td id=\"T_dc99b_row9_col6\" class=\"data row9 col6\" >0.9013</td>\n",
       "      <td id=\"T_dc99b_row9_col7\" class=\"data row9 col7\" >0.9017</td>\n",
       "      <td id=\"T_dc99b_row9_col8\" class=\"data row9 col8\" >7.3790</td>\n",
       "    </tr>\n",
       "    <tr>\n",
       "      <th id=\"T_dc99b_level0_row10\" class=\"row_heading level0 row10\" >ridge</th>\n",
       "      <td id=\"T_dc99b_row10_col0\" class=\"data row10 col0\" >Ridge Classifier</td>\n",
       "      <td id=\"T_dc99b_row10_col1\" class=\"data row10 col1\" >0.9112</td>\n",
       "      <td id=\"T_dc99b_row10_col2\" class=\"data row10 col2\" >0.0000</td>\n",
       "      <td id=\"T_dc99b_row10_col3\" class=\"data row10 col3\" >0.9112</td>\n",
       "      <td id=\"T_dc99b_row10_col4\" class=\"data row10 col4\" >0.9127</td>\n",
       "      <td id=\"T_dc99b_row10_col5\" class=\"data row10 col5\" >0.9105</td>\n",
       "      <td id=\"T_dc99b_row10_col6\" class=\"data row10 col6\" >0.8931</td>\n",
       "      <td id=\"T_dc99b_row10_col7\" class=\"data row10 col7\" >0.8937</td>\n",
       "      <td id=\"T_dc99b_row10_col8\" class=\"data row10 col8\" >9.5270</td>\n",
       "    </tr>\n",
       "    <tr>\n",
       "      <th id=\"T_dc99b_level0_row11\" class=\"row_heading level0 row11\" >nb</th>\n",
       "      <td id=\"T_dc99b_row11_col0\" class=\"data row11 col0\" >Naive Bayes</td>\n",
       "      <td id=\"T_dc99b_row11_col1\" class=\"data row11 col1\" >0.8362</td>\n",
       "      <td id=\"T_dc99b_row11_col2\" class=\"data row11 col2\" >0.9682</td>\n",
       "      <td id=\"T_dc99b_row11_col3\" class=\"data row11 col3\" >0.8362</td>\n",
       "      <td id=\"T_dc99b_row11_col4\" class=\"data row11 col4\" >0.8439</td>\n",
       "      <td id=\"T_dc99b_row11_col5\" class=\"data row11 col5\" >0.8367</td>\n",
       "      <td id=\"T_dc99b_row11_col6\" class=\"data row11 col6\" >0.8030</td>\n",
       "      <td id=\"T_dc99b_row11_col7\" class=\"data row11 col7\" >0.8042</td>\n",
       "      <td id=\"T_dc99b_row11_col8\" class=\"data row11 col8\" >6.6740</td>\n",
       "    </tr>\n",
       "    <tr>\n",
       "      <th id=\"T_dc99b_level0_row12\" class=\"row_heading level0 row12\" >dt</th>\n",
       "      <td id=\"T_dc99b_row12_col0\" class=\"data row12 col0\" >Decision Tree Classifier</td>\n",
       "      <td id=\"T_dc99b_row12_col1\" class=\"data row12 col1\" >0.8119</td>\n",
       "      <td id=\"T_dc99b_row12_col2\" class=\"data row12 col2\" >0.8870</td>\n",
       "      <td id=\"T_dc99b_row12_col3\" class=\"data row12 col3\" >0.8119</td>\n",
       "      <td id=\"T_dc99b_row12_col4\" class=\"data row12 col4\" >0.8140</td>\n",
       "      <td id=\"T_dc99b_row12_col5\" class=\"data row12 col5\" >0.8121</td>\n",
       "      <td id=\"T_dc99b_row12_col6\" class=\"data row12 col6\" >0.7736</td>\n",
       "      <td id=\"T_dc99b_row12_col7\" class=\"data row12 col7\" >0.7739</td>\n",
       "      <td id=\"T_dc99b_row12_col8\" class=\"data row12 col8\" >7.3630</td>\n",
       "    </tr>\n",
       "    <tr>\n",
       "      <th id=\"T_dc99b_level0_row13\" class=\"row_heading level0 row13\" >ada</th>\n",
       "      <td id=\"T_dc99b_row13_col0\" class=\"data row13 col0\" >Ada Boost Classifier</td>\n",
       "      <td id=\"T_dc99b_row13_col1\" class=\"data row13 col1\" >0.4081</td>\n",
       "      <td id=\"T_dc99b_row13_col2\" class=\"data row13 col2\" >0.8778</td>\n",
       "      <td id=\"T_dc99b_row13_col3\" class=\"data row13 col3\" >0.4081</td>\n",
       "      <td id=\"T_dc99b_row13_col4\" class=\"data row13 col4\" >0.2328</td>\n",
       "      <td id=\"T_dc99b_row13_col5\" class=\"data row13 col5\" >0.2733</td>\n",
       "      <td id=\"T_dc99b_row13_col6\" class=\"data row13 col6\" >0.2872</td>\n",
       "      <td id=\"T_dc99b_row13_col7\" class=\"data row13 col7\" >0.3397</td>\n",
       "      <td id=\"T_dc99b_row13_col8\" class=\"data row13 col8\" >7.7430</td>\n",
       "    </tr>\n",
       "    <tr>\n",
       "      <th id=\"T_dc99b_level0_row14\" class=\"row_heading level0 row14\" >dummy</th>\n",
       "      <td id=\"T_dc99b_row14_col0\" class=\"data row14 col0\" >Dummy Classifier</td>\n",
       "      <td id=\"T_dc99b_row14_col1\" class=\"data row14 col1\" >0.1914</td>\n",
       "      <td id=\"T_dc99b_row14_col2\" class=\"data row14 col2\" >0.5000</td>\n",
       "      <td id=\"T_dc99b_row14_col3\" class=\"data row14 col3\" >0.1914</td>\n",
       "      <td id=\"T_dc99b_row14_col4\" class=\"data row14 col4\" >0.0366</td>\n",
       "      <td id=\"T_dc99b_row14_col5\" class=\"data row14 col5\" >0.0615</td>\n",
       "      <td id=\"T_dc99b_row14_col6\" class=\"data row14 col6\" >0.0000</td>\n",
       "      <td id=\"T_dc99b_row14_col7\" class=\"data row14 col7\" >0.0000</td>\n",
       "      <td id=\"T_dc99b_row14_col8\" class=\"data row14 col8\" >7.1750</td>\n",
       "    </tr>\n",
       "  </tbody>\n",
       "</table>\n"
      ],
      "text/plain": [
       "<pandas.io.formats.style.Styler at 0x263c6df5bd0>"
      ]
     },
     "metadata": {},
     "output_type": "display_data"
    },
    {
     "data": {
      "application/vnd.jupyter.widget-view+json": {
       "model_id": "",
       "version_major": 2,
       "version_minor": 0
      },
      "text/plain": [
       "Processing:   0%|          | 0/65 [00:00<?, ?it/s]"
      ]
     },
     "metadata": {},
     "output_type": "display_data"
    }
   ],
   "source": [
    "# Comparando todos os modelos\n",
    "best_model = compare_models()"
   ]
  },
  {
   "cell_type": "markdown",
   "metadata": {},
   "source": [
    "- Vemos ótimos resultados no cross validation para o algoritmo de regressão linear, e vamos continuar com ele."
   ]
  },
  {
   "cell_type": "markdown",
   "metadata": {},
   "source": [
    "<a id='modelo-final'></a>\n",
    "# 7. Modelo final"
   ]
  },
  {
   "cell_type": "markdown",
   "metadata": {},
   "source": [
    "<a id='create_model'></a>\n",
    "## 7.1 create_model"
   ]
  },
  {
   "cell_type": "code",
   "execution_count": 85,
   "metadata": {},
   "outputs": [
    {
     "data": {
      "text/html": [],
      "text/plain": [
       "<IPython.core.display.HTML object>"
      ]
     },
     "metadata": {},
     "output_type": "display_data"
    },
    {
     "data": {
      "text/html": [
       "<style type=\"text/css\">\n",
       "#T_20356_row10_col0, #T_20356_row10_col1, #T_20356_row10_col2, #T_20356_row10_col3, #T_20356_row10_col4, #T_20356_row10_col5, #T_20356_row10_col6 {\n",
       "  background: yellow;\n",
       "}\n",
       "</style>\n",
       "<table id=\"T_20356\">\n",
       "  <thead>\n",
       "    <tr>\n",
       "      <th class=\"blank level0\" >&nbsp;</th>\n",
       "      <th id=\"T_20356_level0_col0\" class=\"col_heading level0 col0\" >Accuracy</th>\n",
       "      <th id=\"T_20356_level0_col1\" class=\"col_heading level0 col1\" >AUC</th>\n",
       "      <th id=\"T_20356_level0_col2\" class=\"col_heading level0 col2\" >Recall</th>\n",
       "      <th id=\"T_20356_level0_col3\" class=\"col_heading level0 col3\" >Prec.</th>\n",
       "      <th id=\"T_20356_level0_col4\" class=\"col_heading level0 col4\" >F1</th>\n",
       "      <th id=\"T_20356_level0_col5\" class=\"col_heading level0 col5\" >Kappa</th>\n",
       "      <th id=\"T_20356_level0_col6\" class=\"col_heading level0 col6\" >MCC</th>\n",
       "    </tr>\n",
       "    <tr>\n",
       "      <th class=\"index_name level0\" >Fold</th>\n",
       "      <th class=\"blank col0\" >&nbsp;</th>\n",
       "      <th class=\"blank col1\" >&nbsp;</th>\n",
       "      <th class=\"blank col2\" >&nbsp;</th>\n",
       "      <th class=\"blank col3\" >&nbsp;</th>\n",
       "      <th class=\"blank col4\" >&nbsp;</th>\n",
       "      <th class=\"blank col5\" >&nbsp;</th>\n",
       "      <th class=\"blank col6\" >&nbsp;</th>\n",
       "    </tr>\n",
       "  </thead>\n",
       "  <tbody>\n",
       "    <tr>\n",
       "      <th id=\"T_20356_level0_row0\" class=\"row_heading level0 row0\" >0</th>\n",
       "      <td id=\"T_20356_row0_col0\" class=\"data row0 col0\" >0.9670</td>\n",
       "      <td id=\"T_20356_row0_col1\" class=\"data row0 col1\" >0.9980</td>\n",
       "      <td id=\"T_20356_row0_col2\" class=\"data row0 col2\" >0.9670</td>\n",
       "      <td id=\"T_20356_row0_col3\" class=\"data row0 col3\" >0.9673</td>\n",
       "      <td id=\"T_20356_row0_col4\" class=\"data row0 col4\" >0.9670</td>\n",
       "      <td id=\"T_20356_row0_col5\" class=\"data row0 col5\" >0.9603</td>\n",
       "      <td id=\"T_20356_row0_col6\" class=\"data row0 col6\" >0.9603</td>\n",
       "    </tr>\n",
       "    <tr>\n",
       "      <th id=\"T_20356_level0_row1\" class=\"row_heading level0 row1\" >1</th>\n",
       "      <td id=\"T_20356_row1_col0\" class=\"data row1 col0\" >0.9573</td>\n",
       "      <td id=\"T_20356_row1_col1\" class=\"data row1 col1\" >0.9964</td>\n",
       "      <td id=\"T_20356_row1_col2\" class=\"data row1 col2\" >0.9573</td>\n",
       "      <td id=\"T_20356_row1_col3\" class=\"data row1 col3\" >0.9577</td>\n",
       "      <td id=\"T_20356_row1_col4\" class=\"data row1 col4\" >0.9573</td>\n",
       "      <td id=\"T_20356_row1_col5\" class=\"data row1 col5\" >0.9486</td>\n",
       "      <td id=\"T_20356_row1_col6\" class=\"data row1 col6\" >0.9487</td>\n",
       "    </tr>\n",
       "    <tr>\n",
       "      <th id=\"T_20356_level0_row2\" class=\"row_heading level0 row2\" >2</th>\n",
       "      <td id=\"T_20356_row2_col0\" class=\"data row2 col0\" >0.9417</td>\n",
       "      <td id=\"T_20356_row2_col1\" class=\"data row2 col1\" >0.9966</td>\n",
       "      <td id=\"T_20356_row2_col2\" class=\"data row2 col2\" >0.9417</td>\n",
       "      <td id=\"T_20356_row2_col3\" class=\"data row2 col3\" >0.9417</td>\n",
       "      <td id=\"T_20356_row2_col4\" class=\"data row2 col4\" >0.9416</td>\n",
       "      <td id=\"T_20356_row2_col5\" class=\"data row2 col5\" >0.9299</td>\n",
       "      <td id=\"T_20356_row2_col6\" class=\"data row2 col6\" >0.9299</td>\n",
       "    </tr>\n",
       "    <tr>\n",
       "      <th id=\"T_20356_level0_row3\" class=\"row_heading level0 row3\" >3</th>\n",
       "      <td id=\"T_20356_row3_col0\" class=\"data row3 col0\" >0.9573</td>\n",
       "      <td id=\"T_20356_row3_col1\" class=\"data row3 col1\" >0.9954</td>\n",
       "      <td id=\"T_20356_row3_col2\" class=\"data row3 col2\" >0.9573</td>\n",
       "      <td id=\"T_20356_row3_col3\" class=\"data row3 col3\" >0.9574</td>\n",
       "      <td id=\"T_20356_row3_col4\" class=\"data row3 col4\" >0.9573</td>\n",
       "      <td id=\"T_20356_row3_col5\" class=\"data row3 col5\" >0.9486</td>\n",
       "      <td id=\"T_20356_row3_col6\" class=\"data row3 col6\" >0.9486</td>\n",
       "    </tr>\n",
       "    <tr>\n",
       "      <th id=\"T_20356_level0_row4\" class=\"row_heading level0 row4\" >4</th>\n",
       "      <td id=\"T_20356_row4_col0\" class=\"data row4 col0\" >0.9437</td>\n",
       "      <td id=\"T_20356_row4_col1\" class=\"data row4 col1\" >0.9949</td>\n",
       "      <td id=\"T_20356_row4_col2\" class=\"data row4 col2\" >0.9437</td>\n",
       "      <td id=\"T_20356_row4_col3\" class=\"data row4 col3\" >0.9441</td>\n",
       "      <td id=\"T_20356_row4_col4\" class=\"data row4 col4\" >0.9436</td>\n",
       "      <td id=\"T_20356_row4_col5\" class=\"data row4 col5\" >0.9322</td>\n",
       "      <td id=\"T_20356_row4_col6\" class=\"data row4 col6\" >0.9323</td>\n",
       "    </tr>\n",
       "    <tr>\n",
       "      <th id=\"T_20356_level0_row5\" class=\"row_heading level0 row5\" >5</th>\n",
       "      <td id=\"T_20356_row5_col0\" class=\"data row5 col0\" >0.9515</td>\n",
       "      <td id=\"T_20356_row5_col1\" class=\"data row5 col1\" >0.9974</td>\n",
       "      <td id=\"T_20356_row5_col2\" class=\"data row5 col2\" >0.9515</td>\n",
       "      <td id=\"T_20356_row5_col3\" class=\"data row5 col3\" >0.9516</td>\n",
       "      <td id=\"T_20356_row5_col4\" class=\"data row5 col4\" >0.9513</td>\n",
       "      <td id=\"T_20356_row5_col5\" class=\"data row5 col5\" >0.9416</td>\n",
       "      <td id=\"T_20356_row5_col6\" class=\"data row5 col6\" >0.9416</td>\n",
       "    </tr>\n",
       "    <tr>\n",
       "      <th id=\"T_20356_level0_row6\" class=\"row_heading level0 row6\" >6</th>\n",
       "      <td id=\"T_20356_row6_col0\" class=\"data row6 col0\" >0.9455</td>\n",
       "      <td id=\"T_20356_row6_col1\" class=\"data row6 col1\" >0.9961</td>\n",
       "      <td id=\"T_20356_row6_col2\" class=\"data row6 col2\" >0.9455</td>\n",
       "      <td id=\"T_20356_row6_col3\" class=\"data row6 col3\" >0.9459</td>\n",
       "      <td id=\"T_20356_row6_col4\" class=\"data row6 col4\" >0.9455</td>\n",
       "      <td id=\"T_20356_row6_col5\" class=\"data row6 col5\" >0.9344</td>\n",
       "      <td id=\"T_20356_row6_col6\" class=\"data row6 col6\" >0.9345</td>\n",
       "    </tr>\n",
       "    <tr>\n",
       "      <th id=\"T_20356_level0_row7\" class=\"row_heading level0 row7\" >7</th>\n",
       "      <td id=\"T_20356_row7_col0\" class=\"data row7 col0\" >0.9611</td>\n",
       "      <td id=\"T_20356_row7_col1\" class=\"data row7 col1\" >0.9980</td>\n",
       "      <td id=\"T_20356_row7_col2\" class=\"data row7 col2\" >0.9611</td>\n",
       "      <td id=\"T_20356_row7_col3\" class=\"data row7 col3\" >0.9614</td>\n",
       "      <td id=\"T_20356_row7_col4\" class=\"data row7 col4\" >0.9611</td>\n",
       "      <td id=\"T_20356_row7_col5\" class=\"data row7 col5\" >0.9532</td>\n",
       "      <td id=\"T_20356_row7_col6\" class=\"data row7 col6\" >0.9532</td>\n",
       "    </tr>\n",
       "    <tr>\n",
       "      <th id=\"T_20356_level0_row8\" class=\"row_heading level0 row8\" >8</th>\n",
       "      <td id=\"T_20356_row8_col0\" class=\"data row8 col0\" >0.9630</td>\n",
       "      <td id=\"T_20356_row8_col1\" class=\"data row8 col1\" >0.9970</td>\n",
       "      <td id=\"T_20356_row8_col2\" class=\"data row8 col2\" >0.9630</td>\n",
       "      <td id=\"T_20356_row8_col3\" class=\"data row8 col3\" >0.9644</td>\n",
       "      <td id=\"T_20356_row8_col4\" class=\"data row8 col4\" >0.9629</td>\n",
       "      <td id=\"T_20356_row8_col5\" class=\"data row8 col5\" >0.9555</td>\n",
       "      <td id=\"T_20356_row8_col6\" class=\"data row8 col6\" >0.9559</td>\n",
       "    </tr>\n",
       "    <tr>\n",
       "      <th id=\"T_20356_level0_row9\" class=\"row_heading level0 row9\" >9</th>\n",
       "      <td id=\"T_20356_row9_col0\" class=\"data row9 col0\" >0.9669</td>\n",
       "      <td id=\"T_20356_row9_col1\" class=\"data row9 col1\" >0.9983</td>\n",
       "      <td id=\"T_20356_row9_col2\" class=\"data row9 col2\" >0.9669</td>\n",
       "      <td id=\"T_20356_row9_col3\" class=\"data row9 col3\" >0.9675</td>\n",
       "      <td id=\"T_20356_row9_col4\" class=\"data row9 col4\" >0.9670</td>\n",
       "      <td id=\"T_20356_row9_col5\" class=\"data row9 col5\" >0.9602</td>\n",
       "      <td id=\"T_20356_row9_col6\" class=\"data row9 col6\" >0.9603</td>\n",
       "    </tr>\n",
       "    <tr>\n",
       "      <th id=\"T_20356_level0_row10\" class=\"row_heading level0 row10\" >Mean</th>\n",
       "      <td id=\"T_20356_row10_col0\" class=\"data row10 col0\" >0.9555</td>\n",
       "      <td id=\"T_20356_row10_col1\" class=\"data row10 col1\" >0.9968</td>\n",
       "      <td id=\"T_20356_row10_col2\" class=\"data row10 col2\" >0.9555</td>\n",
       "      <td id=\"T_20356_row10_col3\" class=\"data row10 col3\" >0.9559</td>\n",
       "      <td id=\"T_20356_row10_col4\" class=\"data row10 col4\" >0.9555</td>\n",
       "      <td id=\"T_20356_row10_col5\" class=\"data row10 col5\" >0.9464</td>\n",
       "      <td id=\"T_20356_row10_col6\" class=\"data row10 col6\" >0.9465</td>\n",
       "    </tr>\n",
       "    <tr>\n",
       "      <th id=\"T_20356_level0_row11\" class=\"row_heading level0 row11\" >Std</th>\n",
       "      <td id=\"T_20356_row11_col0\" class=\"data row11 col0\" >0.0090</td>\n",
       "      <td id=\"T_20356_row11_col1\" class=\"data row11 col1\" >0.0011</td>\n",
       "      <td id=\"T_20356_row11_col2\" class=\"data row11 col2\" >0.0090</td>\n",
       "      <td id=\"T_20356_row11_col3\" class=\"data row11 col3\" >0.0091</td>\n",
       "      <td id=\"T_20356_row11_col4\" class=\"data row11 col4\" >0.0090</td>\n",
       "      <td id=\"T_20356_row11_col5\" class=\"data row11 col5\" >0.0108</td>\n",
       "      <td id=\"T_20356_row11_col6\" class=\"data row11 col6\" >0.0108</td>\n",
       "    </tr>\n",
       "  </tbody>\n",
       "</table>\n"
      ],
      "text/plain": [
       "<pandas.io.formats.style.Styler at 0x263c26ad9f0>"
      ]
     },
     "metadata": {},
     "output_type": "display_data"
    },
    {
     "data": {
      "application/vnd.jupyter.widget-view+json": {
       "model_id": "",
       "version_major": 2,
       "version_minor": 0
      },
      "text/plain": [
       "Processing:   0%|          | 0/4 [00:00<?, ?it/s]"
      ]
     },
     "metadata": {},
     "output_type": "display_data"
    }
   ],
   "source": [
    "# Criando o modelo de regressão logística\n",
    "lr = create_model('lr')"
   ]
  },
  {
   "cell_type": "markdown",
   "metadata": {},
   "source": [
    "<a id='Predict-Pipeline'></a>\n",
    "## 7.2 Predict e Pipeline"
   ]
  },
  {
   "cell_type": "markdown",
   "metadata": {},
   "source": [
    "#### Predict"
   ]
  },
  {
   "cell_type": "markdown",
   "metadata": {},
   "source": [
    "Transformações na base de teste, um transformador poderia ser inserido no setup, porém vamos fazer separado para melhor interpretação"
   ]
  },
  {
   "cell_type": "code",
   "execution_count": 87,
   "metadata": {},
   "outputs": [],
   "source": [
    "# Removendo a variável de resposta e a identificação do voluntário\n",
    "df_test_features = df_test.drop(['subject_id'], axis=1)\n",
    "\n",
    "# Usando o mesmo padronizador para transformar os dados de teste\n",
    "df_test_pad = scaler.transform(df_test_features)\n",
    "\n",
    "# Convertendo de volta para um DataFrame\n",
    "df_test_pad = pd.DataFrame(df_test_pad, columns=df_test_features.columns)\n",
    "\n",
    "# Aplicando PCA aos dados padronizados de teste\n",
    "# Usando o mesmo objeto PCA que foi ajustado nos dados de treino\n",
    "componentes_test_pad = princomp_pad.transform(df_test_pad)\n",
    "\n",
    "# DF das CPs com padronização para os dados de teste\n",
    "CP_test_pad = pd.DataFrame(data = componentes_test_pad, columns = nomes_pca_pad)"
   ]
  },
  {
   "cell_type": "code",
   "execution_count": 92,
   "metadata": {},
   "outputs": [
    {
     "data": {
      "text/html": [],
      "text/plain": [
       "<IPython.core.display.HTML object>"
      ]
     },
     "metadata": {},
     "output_type": "display_data"
    },
    {
     "name": "stdout",
     "output_type": "stream",
     "text": [
      "Acurácia: 0.9192399049881235\n"
     ]
    }
   ],
   "source": [
    "# Fazendo previsões no conjunto de dados de teste\n",
    "predictions = predict_model(lr, data=CP_test_pad)\n",
    "\n",
    "# As previsões estão na coluna 'Label' do dataframe de saída\n",
    "predicted_labels = predictions['prediction_label']\n",
    "\n",
    "# Agora você pode calcular as métricas usando qualquer função de métricas do scikit-learn\n",
    "# Por exemplo, para calcular a acurácia:\n",
    "from sklearn.metrics import accuracy_score\n",
    "accuracy = accuracy_score(y_test['cod_label'], predicted_labels)\n",
    "\n",
    "print('Acurácia:', accuracy)"
   ]
  },
  {
   "cell_type": "markdown",
   "metadata": {},
   "source": [
    "- Vemos que caiu um pouco para uma nova base, mas mantendo ainda uma boa acurácia."
   ]
  },
  {
   "cell_type": "markdown",
   "metadata": {},
   "source": [
    "#### Pipeline"
   ]
  },
  {
   "cell_type": "code",
   "execution_count": 95,
   "metadata": {},
   "outputs": [
    {
     "name": "stdout",
     "output_type": "stream",
     "text": [
      "Transformation Pipeline and Model Successfully Saved\n"
     ]
    },
    {
     "data": {
      "text/plain": [
       "(Pipeline(memory=FastMemory(location=C:\\Users\\user\\AppData\\Local\\Temp\\joblib),\n",
       "          steps=[('label_encoding',\n",
       "                  TransformerWrapperWithInverse(exclude=None, include=None,\n",
       "                                                transformer=LabelEncoder())),\n",
       "                 ('numerical_imputer',\n",
       "                  TransformerWrapper(exclude=None,\n",
       "                                     include=['CP1', 'CP2', 'CP3', 'CP4', 'CP5',\n",
       "                                              'CP6', 'CP7', 'CP8', 'CP9', 'CP10',\n",
       "                                              'CP11', 'CP12', 'CP13', 'CP14',\n",
       "                                              'CP15', 'CP16...\n",
       "                                                               keep_empty_features=False,\n",
       "                                                               missing_values=nan,\n",
       "                                                               strategy='most_frequent',\n",
       "                                                               verbose='deprecated'))),\n",
       "                 ('trained_model',\n",
       "                  LogisticRegression(C=1.0, class_weight=None, dual=False,\n",
       "                                     fit_intercept=True, intercept_scaling=1,\n",
       "                                     l1_ratio=None, max_iter=1000,\n",
       "                                     multi_class='auto', n_jobs=None,\n",
       "                                     penalty='l2', random_state=484,\n",
       "                                     solver='lbfgs', tol=0.0001, verbose=0,\n",
       "                                     warm_start=False))],\n",
       "          verbose=False),\n",
       " 'lr.pkl')"
      ]
     },
     "execution_count": 95,
     "metadata": {},
     "output_type": "execute_result"
    }
   ],
   "source": [
    "# Salvando o modelo\n",
    "save_model(lr, 'lr')"
   ]
  },
  {
   "cell_type": "markdown",
   "metadata": {},
   "source": [
    "<a id='aval-modelo'></a>\n",
    "# 8. Avaliação Modelo"
   ]
  },
  {
   "cell_type": "markdown",
   "metadata": {},
   "source": [
    "O `evaluate_models`apresenta as principais características de avaliação do modelo, incluindo gráficos e parâmetros"
   ]
  },
  {
   "cell_type": "code",
   "execution_count": 97,
   "metadata": {},
   "outputs": [
    {
     "data": {
      "application/vnd.jupyter.widget-view+json": {
       "model_id": "ffd7138d9e02470f927bc19fda1cf69a",
       "version_major": 2,
       "version_minor": 0
      },
      "text/plain": [
       "interactive(children=(ToggleButtons(description='Plot Type:', icons=('',), options=(('Pipeline Plot', 'pipelin…"
      ]
     },
     "metadata": {},
     "output_type": "display_data"
    }
   ],
   "source": [
    "# Avaliando o modelo\n",
    "evaluate_model(lr)"
   ]
  },
  {
   "cell_type": "markdown",
   "metadata": {},
   "source": [
    "<a id='Relatorio'></a>\n",
    "# 9. Relatório Gerencial"
   ]
  },
  {
   "cell_type": "markdown",
   "metadata": {},
   "source": [
    "**Um relatório sobre o modelo** e como as variáveis interferem nas classes, pode ser desafiador quando utilizamos **PCA** e ainda uma **Reg logistica**, usa várias reg log para cada classe ser ou não ser, e a maior probabilidade ganha como classe. O que pode ser complicado para definir e quantificar a relação dos coeficientes com a classe. Assim usamos o coeficiente das **principais componentes** para mostrar como elas afetam as classes, auxiliando na decisão de quais variáveis utilizar ou entender melhor o modelo."
   ]
  },
  {
   "cell_type": "code",
   "execution_count": 105,
   "metadata": {},
   "outputs": [],
   "source": [
    "def plot_top_vars(class_name):\n",
    "    # Obtendo os coeficientes para a classe especificada\n",
    "    class_index = list(lda.classes_).index(class_name)\n",
    "    coef = lda.coef_[class_index]\n",
    "\n",
    "    # Obtendo as cinco variáveis mais importantes\n",
    "    top_vars = np.argsort(np.abs(coef))[-5:]\n",
    "\n",
    "    # Criando um DataFrame com os dados\n",
    "    data = {\n",
    "        'Variável': ['CP'+str(var+1) for var in top_vars],\n",
    "        'Coeficiente': coef[top_vars],\n",
    "    }\n",
    "    df_top_vars = pd.DataFrame(data)\n",
    "\n",
    "    # Criando o gráfico de barras\n",
    "    fig = px.bar(df_top_vars, x='Variável', y='Coeficiente', title=f'Cinco Variáveis Mais Importantes para a Classe {class_name}', color='Variável')\n",
    "\n",
    "    # Mostrando o gráfico\n",
    "    fig.show()"
   ]
  },
  {
   "cell_type": "code",
   "execution_count": 106,
   "metadata": {},
   "outputs": [
    {
     "data": {
      "application/vnd.plotly.v1+json": {
       "config": {
        "plotlyServerURL": "https://plot.ly"
       },
       "data": [
        {
         "alignmentgroup": "True",
         "hovertemplate": "Variável=%{x}<br>Coeficiente=%{y}<extra></extra>",
         "legendgroup": "CP24",
         "marker": {
          "color": "#636efa",
          "pattern": {
           "shape": ""
          }
         },
         "name": "CP24",
         "offsetgroup": "CP24",
         "orientation": "v",
         "showlegend": true,
         "textposition": "auto",
         "type": "bar",
         "x": [
          "CP24"
         ],
         "xaxis": "x",
         "y": [
          1.8683159492693193
         ],
         "yaxis": "y"
        },
        {
         "alignmentgroup": "True",
         "hovertemplate": "Variável=%{x}<br>Coeficiente=%{y}<extra></extra>",
         "legendgroup": "CP15",
         "marker": {
          "color": "#EF553B",
          "pattern": {
           "shape": ""
          }
         },
         "name": "CP15",
         "offsetgroup": "CP15",
         "orientation": "v",
         "showlegend": true,
         "textposition": "auto",
         "type": "bar",
         "x": [
          "CP15"
         ],
         "xaxis": "x",
         "y": [
          -1.9190634945820069
         ],
         "yaxis": "y"
        },
        {
         "alignmentgroup": "True",
         "hovertemplate": "Variável=%{x}<br>Coeficiente=%{y}<extra></extra>",
         "legendgroup": "CP26",
         "marker": {
          "color": "#00cc96",
          "pattern": {
           "shape": ""
          }
         },
         "name": "CP26",
         "offsetgroup": "CP26",
         "orientation": "v",
         "showlegend": true,
         "textposition": "auto",
         "type": "bar",
         "x": [
          "CP26"
         ],
         "xaxis": "x",
         "y": [
          -2.03066109775336
         ],
         "yaxis": "y"
        },
        {
         "alignmentgroup": "True",
         "hovertemplate": "Variável=%{x}<br>Coeficiente=%{y}<extra></extra>",
         "legendgroup": "CP1",
         "marker": {
          "color": "#ab63fa",
          "pattern": {
           "shape": ""
          }
         },
         "name": "CP1",
         "offsetgroup": "CP1",
         "orientation": "v",
         "showlegend": true,
         "textposition": "auto",
         "type": "bar",
         "x": [
          "CP1"
         ],
         "xaxis": "x",
         "y": [
          2.747443387576497
         ],
         "yaxis": "y"
        },
        {
         "alignmentgroup": "True",
         "hovertemplate": "Variável=%{x}<br>Coeficiente=%{y}<extra></extra>",
         "legendgroup": "CP3",
         "marker": {
          "color": "#FFA15A",
          "pattern": {
           "shape": ""
          }
         },
         "name": "CP3",
         "offsetgroup": "CP3",
         "orientation": "v",
         "showlegend": true,
         "textposition": "auto",
         "type": "bar",
         "x": [
          "CP3"
         ],
         "xaxis": "x",
         "y": [
          -3.320793511844009
         ],
         "yaxis": "y"
        }
       ],
       "layout": {
        "barmode": "relative",
        "legend": {
         "title": {
          "text": "Variável"
         },
         "tracegroupgap": 0
        },
        "template": {
         "data": {
          "bar": [
           {
            "error_x": {
             "color": "#2a3f5f"
            },
            "error_y": {
             "color": "#2a3f5f"
            },
            "marker": {
             "line": {
              "color": "#E5ECF6",
              "width": 0.5
             },
             "pattern": {
              "fillmode": "overlay",
              "size": 10,
              "solidity": 0.2
             }
            },
            "type": "bar"
           }
          ],
          "barpolar": [
           {
            "marker": {
             "line": {
              "color": "#E5ECF6",
              "width": 0.5
             },
             "pattern": {
              "fillmode": "overlay",
              "size": 10,
              "solidity": 0.2
             }
            },
            "type": "barpolar"
           }
          ],
          "carpet": [
           {
            "aaxis": {
             "endlinecolor": "#2a3f5f",
             "gridcolor": "white",
             "linecolor": "white",
             "minorgridcolor": "white",
             "startlinecolor": "#2a3f5f"
            },
            "baxis": {
             "endlinecolor": "#2a3f5f",
             "gridcolor": "white",
             "linecolor": "white",
             "minorgridcolor": "white",
             "startlinecolor": "#2a3f5f"
            },
            "type": "carpet"
           }
          ],
          "choropleth": [
           {
            "colorbar": {
             "outlinewidth": 0,
             "ticks": ""
            },
            "type": "choropleth"
           }
          ],
          "contour": [
           {
            "colorbar": {
             "outlinewidth": 0,
             "ticks": ""
            },
            "colorscale": [
             [
              0,
              "#0d0887"
             ],
             [
              0.1111111111111111,
              "#46039f"
             ],
             [
              0.2222222222222222,
              "#7201a8"
             ],
             [
              0.3333333333333333,
              "#9c179e"
             ],
             [
              0.4444444444444444,
              "#bd3786"
             ],
             [
              0.5555555555555556,
              "#d8576b"
             ],
             [
              0.6666666666666666,
              "#ed7953"
             ],
             [
              0.7777777777777778,
              "#fb9f3a"
             ],
             [
              0.8888888888888888,
              "#fdca26"
             ],
             [
              1,
              "#f0f921"
             ]
            ],
            "type": "contour"
           }
          ],
          "contourcarpet": [
           {
            "colorbar": {
             "outlinewidth": 0,
             "ticks": ""
            },
            "type": "contourcarpet"
           }
          ],
          "heatmap": [
           {
            "colorbar": {
             "outlinewidth": 0,
             "ticks": ""
            },
            "colorscale": [
             [
              0,
              "#0d0887"
             ],
             [
              0.1111111111111111,
              "#46039f"
             ],
             [
              0.2222222222222222,
              "#7201a8"
             ],
             [
              0.3333333333333333,
              "#9c179e"
             ],
             [
              0.4444444444444444,
              "#bd3786"
             ],
             [
              0.5555555555555556,
              "#d8576b"
             ],
             [
              0.6666666666666666,
              "#ed7953"
             ],
             [
              0.7777777777777778,
              "#fb9f3a"
             ],
             [
              0.8888888888888888,
              "#fdca26"
             ],
             [
              1,
              "#f0f921"
             ]
            ],
            "type": "heatmap"
           }
          ],
          "heatmapgl": [
           {
            "colorbar": {
             "outlinewidth": 0,
             "ticks": ""
            },
            "colorscale": [
             [
              0,
              "#0d0887"
             ],
             [
              0.1111111111111111,
              "#46039f"
             ],
             [
              0.2222222222222222,
              "#7201a8"
             ],
             [
              0.3333333333333333,
              "#9c179e"
             ],
             [
              0.4444444444444444,
              "#bd3786"
             ],
             [
              0.5555555555555556,
              "#d8576b"
             ],
             [
              0.6666666666666666,
              "#ed7953"
             ],
             [
              0.7777777777777778,
              "#fb9f3a"
             ],
             [
              0.8888888888888888,
              "#fdca26"
             ],
             [
              1,
              "#f0f921"
             ]
            ],
            "type": "heatmapgl"
           }
          ],
          "histogram": [
           {
            "marker": {
             "pattern": {
              "fillmode": "overlay",
              "size": 10,
              "solidity": 0.2
             }
            },
            "type": "histogram"
           }
          ],
          "histogram2d": [
           {
            "colorbar": {
             "outlinewidth": 0,
             "ticks": ""
            },
            "colorscale": [
             [
              0,
              "#0d0887"
             ],
             [
              0.1111111111111111,
              "#46039f"
             ],
             [
              0.2222222222222222,
              "#7201a8"
             ],
             [
              0.3333333333333333,
              "#9c179e"
             ],
             [
              0.4444444444444444,
              "#bd3786"
             ],
             [
              0.5555555555555556,
              "#d8576b"
             ],
             [
              0.6666666666666666,
              "#ed7953"
             ],
             [
              0.7777777777777778,
              "#fb9f3a"
             ],
             [
              0.8888888888888888,
              "#fdca26"
             ],
             [
              1,
              "#f0f921"
             ]
            ],
            "type": "histogram2d"
           }
          ],
          "histogram2dcontour": [
           {
            "colorbar": {
             "outlinewidth": 0,
             "ticks": ""
            },
            "colorscale": [
             [
              0,
              "#0d0887"
             ],
             [
              0.1111111111111111,
              "#46039f"
             ],
             [
              0.2222222222222222,
              "#7201a8"
             ],
             [
              0.3333333333333333,
              "#9c179e"
             ],
             [
              0.4444444444444444,
              "#bd3786"
             ],
             [
              0.5555555555555556,
              "#d8576b"
             ],
             [
              0.6666666666666666,
              "#ed7953"
             ],
             [
              0.7777777777777778,
              "#fb9f3a"
             ],
             [
              0.8888888888888888,
              "#fdca26"
             ],
             [
              1,
              "#f0f921"
             ]
            ],
            "type": "histogram2dcontour"
           }
          ],
          "mesh3d": [
           {
            "colorbar": {
             "outlinewidth": 0,
             "ticks": ""
            },
            "type": "mesh3d"
           }
          ],
          "parcoords": [
           {
            "line": {
             "colorbar": {
              "outlinewidth": 0,
              "ticks": ""
             }
            },
            "type": "parcoords"
           }
          ],
          "pie": [
           {
            "automargin": true,
            "type": "pie"
           }
          ],
          "scatter": [
           {
            "fillpattern": {
             "fillmode": "overlay",
             "size": 10,
             "solidity": 0.2
            },
            "type": "scatter"
           }
          ],
          "scatter3d": [
           {
            "line": {
             "colorbar": {
              "outlinewidth": 0,
              "ticks": ""
             }
            },
            "marker": {
             "colorbar": {
              "outlinewidth": 0,
              "ticks": ""
             }
            },
            "type": "scatter3d"
           }
          ],
          "scattercarpet": [
           {
            "marker": {
             "colorbar": {
              "outlinewidth": 0,
              "ticks": ""
             }
            },
            "type": "scattercarpet"
           }
          ],
          "scattergeo": [
           {
            "marker": {
             "colorbar": {
              "outlinewidth": 0,
              "ticks": ""
             }
            },
            "type": "scattergeo"
           }
          ],
          "scattergl": [
           {
            "marker": {
             "colorbar": {
              "outlinewidth": 0,
              "ticks": ""
             }
            },
            "type": "scattergl"
           }
          ],
          "scattermapbox": [
           {
            "marker": {
             "colorbar": {
              "outlinewidth": 0,
              "ticks": ""
             }
            },
            "type": "scattermapbox"
           }
          ],
          "scatterpolar": [
           {
            "marker": {
             "colorbar": {
              "outlinewidth": 0,
              "ticks": ""
             }
            },
            "type": "scatterpolar"
           }
          ],
          "scatterpolargl": [
           {
            "marker": {
             "colorbar": {
              "outlinewidth": 0,
              "ticks": ""
             }
            },
            "type": "scatterpolargl"
           }
          ],
          "scatterternary": [
           {
            "marker": {
             "colorbar": {
              "outlinewidth": 0,
              "ticks": ""
             }
            },
            "type": "scatterternary"
           }
          ],
          "surface": [
           {
            "colorbar": {
             "outlinewidth": 0,
             "ticks": ""
            },
            "colorscale": [
             [
              0,
              "#0d0887"
             ],
             [
              0.1111111111111111,
              "#46039f"
             ],
             [
              0.2222222222222222,
              "#7201a8"
             ],
             [
              0.3333333333333333,
              "#9c179e"
             ],
             [
              0.4444444444444444,
              "#bd3786"
             ],
             [
              0.5555555555555556,
              "#d8576b"
             ],
             [
              0.6666666666666666,
              "#ed7953"
             ],
             [
              0.7777777777777778,
              "#fb9f3a"
             ],
             [
              0.8888888888888888,
              "#fdca26"
             ],
             [
              1,
              "#f0f921"
             ]
            ],
            "type": "surface"
           }
          ],
          "table": [
           {
            "cells": {
             "fill": {
              "color": "#EBF0F8"
             },
             "line": {
              "color": "white"
             }
            },
            "header": {
             "fill": {
              "color": "#C8D4E3"
             },
             "line": {
              "color": "white"
             }
            },
            "type": "table"
           }
          ]
         },
         "layout": {
          "annotationdefaults": {
           "arrowcolor": "#2a3f5f",
           "arrowhead": 0,
           "arrowwidth": 1
          },
          "autotypenumbers": "strict",
          "coloraxis": {
           "colorbar": {
            "outlinewidth": 0,
            "ticks": ""
           }
          },
          "colorscale": {
           "diverging": [
            [
             0,
             "#8e0152"
            ],
            [
             0.1,
             "#c51b7d"
            ],
            [
             0.2,
             "#de77ae"
            ],
            [
             0.3,
             "#f1b6da"
            ],
            [
             0.4,
             "#fde0ef"
            ],
            [
             0.5,
             "#f7f7f7"
            ],
            [
             0.6,
             "#e6f5d0"
            ],
            [
             0.7,
             "#b8e186"
            ],
            [
             0.8,
             "#7fbc41"
            ],
            [
             0.9,
             "#4d9221"
            ],
            [
             1,
             "#276419"
            ]
           ],
           "sequential": [
            [
             0,
             "#0d0887"
            ],
            [
             0.1111111111111111,
             "#46039f"
            ],
            [
             0.2222222222222222,
             "#7201a8"
            ],
            [
             0.3333333333333333,
             "#9c179e"
            ],
            [
             0.4444444444444444,
             "#bd3786"
            ],
            [
             0.5555555555555556,
             "#d8576b"
            ],
            [
             0.6666666666666666,
             "#ed7953"
            ],
            [
             0.7777777777777778,
             "#fb9f3a"
            ],
            [
             0.8888888888888888,
             "#fdca26"
            ],
            [
             1,
             "#f0f921"
            ]
           ],
           "sequentialminus": [
            [
             0,
             "#0d0887"
            ],
            [
             0.1111111111111111,
             "#46039f"
            ],
            [
             0.2222222222222222,
             "#7201a8"
            ],
            [
             0.3333333333333333,
             "#9c179e"
            ],
            [
             0.4444444444444444,
             "#bd3786"
            ],
            [
             0.5555555555555556,
             "#d8576b"
            ],
            [
             0.6666666666666666,
             "#ed7953"
            ],
            [
             0.7777777777777778,
             "#fb9f3a"
            ],
            [
             0.8888888888888888,
             "#fdca26"
            ],
            [
             1,
             "#f0f921"
            ]
           ]
          },
          "colorway": [
           "#636efa",
           "#EF553B",
           "#00cc96",
           "#ab63fa",
           "#FFA15A",
           "#19d3f3",
           "#FF6692",
           "#B6E880",
           "#FF97FF",
           "#FECB52"
          ],
          "font": {
           "color": "#2a3f5f"
          },
          "geo": {
           "bgcolor": "white",
           "lakecolor": "white",
           "landcolor": "#E5ECF6",
           "showlakes": true,
           "showland": true,
           "subunitcolor": "white"
          },
          "hoverlabel": {
           "align": "left"
          },
          "hovermode": "closest",
          "mapbox": {
           "style": "light"
          },
          "paper_bgcolor": "white",
          "plot_bgcolor": "#E5ECF6",
          "polar": {
           "angularaxis": {
            "gridcolor": "white",
            "linecolor": "white",
            "ticks": ""
           },
           "bgcolor": "#E5ECF6",
           "radialaxis": {
            "gridcolor": "white",
            "linecolor": "white",
            "ticks": ""
           }
          },
          "scene": {
           "xaxis": {
            "backgroundcolor": "#E5ECF6",
            "gridcolor": "white",
            "gridwidth": 2,
            "linecolor": "white",
            "showbackground": true,
            "ticks": "",
            "zerolinecolor": "white"
           },
           "yaxis": {
            "backgroundcolor": "#E5ECF6",
            "gridcolor": "white",
            "gridwidth": 2,
            "linecolor": "white",
            "showbackground": true,
            "ticks": "",
            "zerolinecolor": "white"
           },
           "zaxis": {
            "backgroundcolor": "#E5ECF6",
            "gridcolor": "white",
            "gridwidth": 2,
            "linecolor": "white",
            "showbackground": true,
            "ticks": "",
            "zerolinecolor": "white"
           }
          },
          "shapedefaults": {
           "line": {
            "color": "#2a3f5f"
           }
          },
          "ternary": {
           "aaxis": {
            "gridcolor": "white",
            "linecolor": "white",
            "ticks": ""
           },
           "baxis": {
            "gridcolor": "white",
            "linecolor": "white",
            "ticks": ""
           },
           "bgcolor": "#E5ECF6",
           "caxis": {
            "gridcolor": "white",
            "linecolor": "white",
            "ticks": ""
           }
          },
          "title": {
           "x": 0.05
          },
          "xaxis": {
           "automargin": true,
           "gridcolor": "white",
           "linecolor": "white",
           "ticks": "",
           "title": {
            "standoff": 15
           },
           "zerolinecolor": "white",
           "zerolinewidth": 2
          },
          "yaxis": {
           "automargin": true,
           "gridcolor": "white",
           "linecolor": "white",
           "ticks": "",
           "title": {
            "standoff": 15
           },
           "zerolinecolor": "white",
           "zerolinewidth": 2
          }
         }
        },
        "title": {
         "text": "Cinco Variáveis Mais Importantes para a Classe Caminhando"
        },
        "xaxis": {
         "anchor": "y",
         "categoryarray": [
          "CP24",
          "CP15",
          "CP26",
          "CP1",
          "CP3"
         ],
         "categoryorder": "array",
         "domain": [
          0,
          1
         ],
         "title": {
          "text": "Variável"
         }
        },
        "yaxis": {
         "anchor": "x",
         "domain": [
          0,
          1
         ],
         "title": {
          "text": "Coeficiente"
         }
        }
       }
      },
      "text/html": [
       "<div>                            <div id=\"c91ff2f9-0ee6-4f72-834f-246791aa0eed\" class=\"plotly-graph-div\" style=\"height:525px; width:100%;\"></div>            <script type=\"text/javascript\">                require([\"plotly\"], function(Plotly) {                    window.PLOTLYENV=window.PLOTLYENV || {};                                    if (document.getElementById(\"c91ff2f9-0ee6-4f72-834f-246791aa0eed\")) {                    Plotly.newPlot(                        \"c91ff2f9-0ee6-4f72-834f-246791aa0eed\",                        [{\"alignmentgroup\":\"True\",\"hovertemplate\":\"Variável=%{x}<br>Coeficiente=%{y}<extra></extra>\",\"legendgroup\":\"CP24\",\"marker\":{\"color\":\"#636efa\",\"pattern\":{\"shape\":\"\"}},\"name\":\"CP24\",\"offsetgroup\":\"CP24\",\"orientation\":\"v\",\"showlegend\":true,\"textposition\":\"auto\",\"x\":[\"CP24\"],\"xaxis\":\"x\",\"y\":[1.8683159492693193],\"yaxis\":\"y\",\"type\":\"bar\"},{\"alignmentgroup\":\"True\",\"hovertemplate\":\"Variável=%{x}<br>Coeficiente=%{y}<extra></extra>\",\"legendgroup\":\"CP15\",\"marker\":{\"color\":\"#EF553B\",\"pattern\":{\"shape\":\"\"}},\"name\":\"CP15\",\"offsetgroup\":\"CP15\",\"orientation\":\"v\",\"showlegend\":true,\"textposition\":\"auto\",\"x\":[\"CP15\"],\"xaxis\":\"x\",\"y\":[-1.9190634945820069],\"yaxis\":\"y\",\"type\":\"bar\"},{\"alignmentgroup\":\"True\",\"hovertemplate\":\"Variável=%{x}<br>Coeficiente=%{y}<extra></extra>\",\"legendgroup\":\"CP26\",\"marker\":{\"color\":\"#00cc96\",\"pattern\":{\"shape\":\"\"}},\"name\":\"CP26\",\"offsetgroup\":\"CP26\",\"orientation\":\"v\",\"showlegend\":true,\"textposition\":\"auto\",\"x\":[\"CP26\"],\"xaxis\":\"x\",\"y\":[-2.03066109775336],\"yaxis\":\"y\",\"type\":\"bar\"},{\"alignmentgroup\":\"True\",\"hovertemplate\":\"Variável=%{x}<br>Coeficiente=%{y}<extra></extra>\",\"legendgroup\":\"CP1\",\"marker\":{\"color\":\"#ab63fa\",\"pattern\":{\"shape\":\"\"}},\"name\":\"CP1\",\"offsetgroup\":\"CP1\",\"orientation\":\"v\",\"showlegend\":true,\"textposition\":\"auto\",\"x\":[\"CP1\"],\"xaxis\":\"x\",\"y\":[2.747443387576497],\"yaxis\":\"y\",\"type\":\"bar\"},{\"alignmentgroup\":\"True\",\"hovertemplate\":\"Variável=%{x}<br>Coeficiente=%{y}<extra></extra>\",\"legendgroup\":\"CP3\",\"marker\":{\"color\":\"#FFA15A\",\"pattern\":{\"shape\":\"\"}},\"name\":\"CP3\",\"offsetgroup\":\"CP3\",\"orientation\":\"v\",\"showlegend\":true,\"textposition\":\"auto\",\"x\":[\"CP3\"],\"xaxis\":\"x\",\"y\":[-3.320793511844009],\"yaxis\":\"y\",\"type\":\"bar\"}],                        {\"template\":{\"data\":{\"histogram2dcontour\":[{\"type\":\"histogram2dcontour\",\"colorbar\":{\"outlinewidth\":0,\"ticks\":\"\"},\"colorscale\":[[0.0,\"#0d0887\"],[0.1111111111111111,\"#46039f\"],[0.2222222222222222,\"#7201a8\"],[0.3333333333333333,\"#9c179e\"],[0.4444444444444444,\"#bd3786\"],[0.5555555555555556,\"#d8576b\"],[0.6666666666666666,\"#ed7953\"],[0.7777777777777778,\"#fb9f3a\"],[0.8888888888888888,\"#fdca26\"],[1.0,\"#f0f921\"]]}],\"choropleth\":[{\"type\":\"choropleth\",\"colorbar\":{\"outlinewidth\":0,\"ticks\":\"\"}}],\"histogram2d\":[{\"type\":\"histogram2d\",\"colorbar\":{\"outlinewidth\":0,\"ticks\":\"\"},\"colorscale\":[[0.0,\"#0d0887\"],[0.1111111111111111,\"#46039f\"],[0.2222222222222222,\"#7201a8\"],[0.3333333333333333,\"#9c179e\"],[0.4444444444444444,\"#bd3786\"],[0.5555555555555556,\"#d8576b\"],[0.6666666666666666,\"#ed7953\"],[0.7777777777777778,\"#fb9f3a\"],[0.8888888888888888,\"#fdca26\"],[1.0,\"#f0f921\"]]}],\"heatmap\":[{\"type\":\"heatmap\",\"colorbar\":{\"outlinewidth\":0,\"ticks\":\"\"},\"colorscale\":[[0.0,\"#0d0887\"],[0.1111111111111111,\"#46039f\"],[0.2222222222222222,\"#7201a8\"],[0.3333333333333333,\"#9c179e\"],[0.4444444444444444,\"#bd3786\"],[0.5555555555555556,\"#d8576b\"],[0.6666666666666666,\"#ed7953\"],[0.7777777777777778,\"#fb9f3a\"],[0.8888888888888888,\"#fdca26\"],[1.0,\"#f0f921\"]]}],\"heatmapgl\":[{\"type\":\"heatmapgl\",\"colorbar\":{\"outlinewidth\":0,\"ticks\":\"\"},\"colorscale\":[[0.0,\"#0d0887\"],[0.1111111111111111,\"#46039f\"],[0.2222222222222222,\"#7201a8\"],[0.3333333333333333,\"#9c179e\"],[0.4444444444444444,\"#bd3786\"],[0.5555555555555556,\"#d8576b\"],[0.6666666666666666,\"#ed7953\"],[0.7777777777777778,\"#fb9f3a\"],[0.8888888888888888,\"#fdca26\"],[1.0,\"#f0f921\"]]}],\"contourcarpet\":[{\"type\":\"contourcarpet\",\"colorbar\":{\"outlinewidth\":0,\"ticks\":\"\"}}],\"contour\":[{\"type\":\"contour\",\"colorbar\":{\"outlinewidth\":0,\"ticks\":\"\"},\"colorscale\":[[0.0,\"#0d0887\"],[0.1111111111111111,\"#46039f\"],[0.2222222222222222,\"#7201a8\"],[0.3333333333333333,\"#9c179e\"],[0.4444444444444444,\"#bd3786\"],[0.5555555555555556,\"#d8576b\"],[0.6666666666666666,\"#ed7953\"],[0.7777777777777778,\"#fb9f3a\"],[0.8888888888888888,\"#fdca26\"],[1.0,\"#f0f921\"]]}],\"surface\":[{\"type\":\"surface\",\"colorbar\":{\"outlinewidth\":0,\"ticks\":\"\"},\"colorscale\":[[0.0,\"#0d0887\"],[0.1111111111111111,\"#46039f\"],[0.2222222222222222,\"#7201a8\"],[0.3333333333333333,\"#9c179e\"],[0.4444444444444444,\"#bd3786\"],[0.5555555555555556,\"#d8576b\"],[0.6666666666666666,\"#ed7953\"],[0.7777777777777778,\"#fb9f3a\"],[0.8888888888888888,\"#fdca26\"],[1.0,\"#f0f921\"]]}],\"mesh3d\":[{\"type\":\"mesh3d\",\"colorbar\":{\"outlinewidth\":0,\"ticks\":\"\"}}],\"scatter\":[{\"fillpattern\":{\"fillmode\":\"overlay\",\"size\":10,\"solidity\":0.2},\"type\":\"scatter\"}],\"parcoords\":[{\"type\":\"parcoords\",\"line\":{\"colorbar\":{\"outlinewidth\":0,\"ticks\":\"\"}}}],\"scatterpolargl\":[{\"type\":\"scatterpolargl\",\"marker\":{\"colorbar\":{\"outlinewidth\":0,\"ticks\":\"\"}}}],\"bar\":[{\"error_x\":{\"color\":\"#2a3f5f\"},\"error_y\":{\"color\":\"#2a3f5f\"},\"marker\":{\"line\":{\"color\":\"#E5ECF6\",\"width\":0.5},\"pattern\":{\"fillmode\":\"overlay\",\"size\":10,\"solidity\":0.2}},\"type\":\"bar\"}],\"scattergeo\":[{\"type\":\"scattergeo\",\"marker\":{\"colorbar\":{\"outlinewidth\":0,\"ticks\":\"\"}}}],\"scatterpolar\":[{\"type\":\"scatterpolar\",\"marker\":{\"colorbar\":{\"outlinewidth\":0,\"ticks\":\"\"}}}],\"histogram\":[{\"marker\":{\"pattern\":{\"fillmode\":\"overlay\",\"size\":10,\"solidity\":0.2}},\"type\":\"histogram\"}],\"scattergl\":[{\"type\":\"scattergl\",\"marker\":{\"colorbar\":{\"outlinewidth\":0,\"ticks\":\"\"}}}],\"scatter3d\":[{\"type\":\"scatter3d\",\"line\":{\"colorbar\":{\"outlinewidth\":0,\"ticks\":\"\"}},\"marker\":{\"colorbar\":{\"outlinewidth\":0,\"ticks\":\"\"}}}],\"scattermapbox\":[{\"type\":\"scattermapbox\",\"marker\":{\"colorbar\":{\"outlinewidth\":0,\"ticks\":\"\"}}}],\"scatterternary\":[{\"type\":\"scatterternary\",\"marker\":{\"colorbar\":{\"outlinewidth\":0,\"ticks\":\"\"}}}],\"scattercarpet\":[{\"type\":\"scattercarpet\",\"marker\":{\"colorbar\":{\"outlinewidth\":0,\"ticks\":\"\"}}}],\"carpet\":[{\"aaxis\":{\"endlinecolor\":\"#2a3f5f\",\"gridcolor\":\"white\",\"linecolor\":\"white\",\"minorgridcolor\":\"white\",\"startlinecolor\":\"#2a3f5f\"},\"baxis\":{\"endlinecolor\":\"#2a3f5f\",\"gridcolor\":\"white\",\"linecolor\":\"white\",\"minorgridcolor\":\"white\",\"startlinecolor\":\"#2a3f5f\"},\"type\":\"carpet\"}],\"table\":[{\"cells\":{\"fill\":{\"color\":\"#EBF0F8\"},\"line\":{\"color\":\"white\"}},\"header\":{\"fill\":{\"color\":\"#C8D4E3\"},\"line\":{\"color\":\"white\"}},\"type\":\"table\"}],\"barpolar\":[{\"marker\":{\"line\":{\"color\":\"#E5ECF6\",\"width\":0.5},\"pattern\":{\"fillmode\":\"overlay\",\"size\":10,\"solidity\":0.2}},\"type\":\"barpolar\"}],\"pie\":[{\"automargin\":true,\"type\":\"pie\"}]},\"layout\":{\"autotypenumbers\":\"strict\",\"colorway\":[\"#636efa\",\"#EF553B\",\"#00cc96\",\"#ab63fa\",\"#FFA15A\",\"#19d3f3\",\"#FF6692\",\"#B6E880\",\"#FF97FF\",\"#FECB52\"],\"font\":{\"color\":\"#2a3f5f\"},\"hovermode\":\"closest\",\"hoverlabel\":{\"align\":\"left\"},\"paper_bgcolor\":\"white\",\"plot_bgcolor\":\"#E5ECF6\",\"polar\":{\"bgcolor\":\"#E5ECF6\",\"angularaxis\":{\"gridcolor\":\"white\",\"linecolor\":\"white\",\"ticks\":\"\"},\"radialaxis\":{\"gridcolor\":\"white\",\"linecolor\":\"white\",\"ticks\":\"\"}},\"ternary\":{\"bgcolor\":\"#E5ECF6\",\"aaxis\":{\"gridcolor\":\"white\",\"linecolor\":\"white\",\"ticks\":\"\"},\"baxis\":{\"gridcolor\":\"white\",\"linecolor\":\"white\",\"ticks\":\"\"},\"caxis\":{\"gridcolor\":\"white\",\"linecolor\":\"white\",\"ticks\":\"\"}},\"coloraxis\":{\"colorbar\":{\"outlinewidth\":0,\"ticks\":\"\"}},\"colorscale\":{\"sequential\":[[0.0,\"#0d0887\"],[0.1111111111111111,\"#46039f\"],[0.2222222222222222,\"#7201a8\"],[0.3333333333333333,\"#9c179e\"],[0.4444444444444444,\"#bd3786\"],[0.5555555555555556,\"#d8576b\"],[0.6666666666666666,\"#ed7953\"],[0.7777777777777778,\"#fb9f3a\"],[0.8888888888888888,\"#fdca26\"],[1.0,\"#f0f921\"]],\"sequentialminus\":[[0.0,\"#0d0887\"],[0.1111111111111111,\"#46039f\"],[0.2222222222222222,\"#7201a8\"],[0.3333333333333333,\"#9c179e\"],[0.4444444444444444,\"#bd3786\"],[0.5555555555555556,\"#d8576b\"],[0.6666666666666666,\"#ed7953\"],[0.7777777777777778,\"#fb9f3a\"],[0.8888888888888888,\"#fdca26\"],[1.0,\"#f0f921\"]],\"diverging\":[[0,\"#8e0152\"],[0.1,\"#c51b7d\"],[0.2,\"#de77ae\"],[0.3,\"#f1b6da\"],[0.4,\"#fde0ef\"],[0.5,\"#f7f7f7\"],[0.6,\"#e6f5d0\"],[0.7,\"#b8e186\"],[0.8,\"#7fbc41\"],[0.9,\"#4d9221\"],[1,\"#276419\"]]},\"xaxis\":{\"gridcolor\":\"white\",\"linecolor\":\"white\",\"ticks\":\"\",\"title\":{\"standoff\":15},\"zerolinecolor\":\"white\",\"automargin\":true,\"zerolinewidth\":2},\"yaxis\":{\"gridcolor\":\"white\",\"linecolor\":\"white\",\"ticks\":\"\",\"title\":{\"standoff\":15},\"zerolinecolor\":\"white\",\"automargin\":true,\"zerolinewidth\":2},\"scene\":{\"xaxis\":{\"backgroundcolor\":\"#E5ECF6\",\"gridcolor\":\"white\",\"linecolor\":\"white\",\"showbackground\":true,\"ticks\":\"\",\"zerolinecolor\":\"white\",\"gridwidth\":2},\"yaxis\":{\"backgroundcolor\":\"#E5ECF6\",\"gridcolor\":\"white\",\"linecolor\":\"white\",\"showbackground\":true,\"ticks\":\"\",\"zerolinecolor\":\"white\",\"gridwidth\":2},\"zaxis\":{\"backgroundcolor\":\"#E5ECF6\",\"gridcolor\":\"white\",\"linecolor\":\"white\",\"showbackground\":true,\"ticks\":\"\",\"zerolinecolor\":\"white\",\"gridwidth\":2}},\"shapedefaults\":{\"line\":{\"color\":\"#2a3f5f\"}},\"annotationdefaults\":{\"arrowcolor\":\"#2a3f5f\",\"arrowhead\":0,\"arrowwidth\":1},\"geo\":{\"bgcolor\":\"white\",\"landcolor\":\"#E5ECF6\",\"subunitcolor\":\"white\",\"showland\":true,\"showlakes\":true,\"lakecolor\":\"white\"},\"title\":{\"x\":0.05},\"mapbox\":{\"style\":\"light\"}}},\"xaxis\":{\"anchor\":\"y\",\"domain\":[0.0,1.0],\"title\":{\"text\":\"Variável\"},\"categoryorder\":\"array\",\"categoryarray\":[\"CP24\",\"CP15\",\"CP26\",\"CP1\",\"CP3\"]},\"yaxis\":{\"anchor\":\"x\",\"domain\":[0.0,1.0],\"title\":{\"text\":\"Coeficiente\"}},\"legend\":{\"title\":{\"text\":\"Variável\"},\"tracegroupgap\":0},\"title\":{\"text\":\"Cinco Variáveis Mais Importantes para a Classe Caminhando\"},\"barmode\":\"relative\"},                        {\"responsive\": true}                    ).then(function(){\n",
       "                            \n",
       "var gd = document.getElementById('c91ff2f9-0ee6-4f72-834f-246791aa0eed');\n",
       "var x = new MutationObserver(function (mutations, observer) {{\n",
       "        var display = window.getComputedStyle(gd).display;\n",
       "        if (!display || display === 'none') {{\n",
       "            console.log([gd, 'removed!']);\n",
       "            Plotly.purge(gd);\n",
       "            observer.disconnect();\n",
       "        }}\n",
       "}});\n",
       "\n",
       "// Listen for the removal of the full notebook cells\n",
       "var notebookContainer = gd.closest('#notebook-container');\n",
       "if (notebookContainer) {{\n",
       "    x.observe(notebookContainer, {childList: true});\n",
       "}}\n",
       "\n",
       "// Listen for the clearing of the current output cell\n",
       "var outputEl = gd.closest('.output');\n",
       "if (outputEl) {{\n",
       "    x.observe(outputEl, {childList: true});\n",
       "}}\n",
       "\n",
       "                        })                };                });            </script>        </div>"
      ]
     },
     "metadata": {},
     "output_type": "display_data"
    }
   ],
   "source": [
    "# Exemplo de uso da função\n",
    "plot_top_vars('Caminhando')"
   ]
  }
 ],
 "metadata": {
  "kernelspec": {
   "display_name": "Python 3 (ipykernel)",
   "language": "python",
   "name": "python3"
  },
  "language_info": {
   "codemirror_mode": {
    "name": "ipython",
    "version": 3
   },
   "file_extension": ".py",
   "mimetype": "text/x-python",
   "name": "python",
   "nbconvert_exporter": "python",
   "pygments_lexer": "ipython3",
   "version": "3.10.9"
  },
  "toc": {
   "base_numbering": 1,
   "nav_menu": {},
   "number_sections": true,
   "sideBar": true,
   "skip_h1_title": true,
   "title_cell": "Índice",
   "title_sidebar": "Conteúdo",
   "toc_cell": false,
   "toc_position": {},
   "toc_section_display": true,
   "toc_window_display": false
  },
  "varInspector": {
   "cols": {
    "lenName": 16,
    "lenType": 16,
    "lenVar": 40
   },
   "kernels_config": {
    "python": {
     "delete_cmd_postfix": "",
     "delete_cmd_prefix": "del ",
     "library": "var_list.py",
     "varRefreshCmd": "print(var_dic_list())"
    },
    "r": {
     "delete_cmd_postfix": ") ",
     "delete_cmd_prefix": "rm(",
     "library": "var_list.r",
     "varRefreshCmd": "cat(var_dic_list()) "
    }
   },
   "types_to_exclude": [
    "module",
    "function",
    "builtin_function_or_method",
    "instance",
    "_Feature"
   ],
   "window_display": false
  }
 },
 "nbformat": 4,
 "nbformat_minor": 4
}
